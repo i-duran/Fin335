{
  "cells": [
    {
      "cell_type": "markdown",
      "metadata": {},
      "source": [
        "# Introduction to Python (Part 2)\n",
        "\n",
        "## Python Lists and Basic Operations\n",
        "\n",
        "Lists are one of the most versatile and commonly used data structures in\n",
        "Python. They allow you to store multiple items in a single variable.\n",
        "\n",
        "### Creating Lists\n",
        "\n",
        "You can create a list by enclosing comma-separated values in square\n",
        "brackets:"
      ],
      "id": "e3e6cb5b-60fd-4723-93eb-b2363d8c57cd"
    },
    {
      "cell_type": "code",
      "execution_count": 1,
      "metadata": {},
      "outputs": [],
      "source": [
        "fruits = [\"apple\", \"banana\", \"cherry\"]\n",
        "numbers = [1, 2, 3, 4, 5]\n",
        "mixed = [1, \"hello\", 3.14, True]"
      ],
      "id": "742fcbd7"
    },
    {
      "cell_type": "markdown",
      "metadata": {},
      "source": [
        "### Accessing List Elements\n",
        "\n",
        "List elements are indexed starting from 0. You can access individual\n",
        "elements using square brackets:"
      ],
      "id": "bc87e728-1212-4858-b279-957c1118ed97"
    },
    {
      "cell_type": "code",
      "execution_count": 2,
      "metadata": {},
      "outputs": [
        {
          "output_type": "stream",
          "name": "stdout",
          "text": [
            "num1: -5\n",
            "num2: 10\n",
            "num3: 4"
          ]
        }
      ],
      "source": [
        "numbers = [10, 1, 3, 4, -5]\n",
        "num1 = numbers[-1] # stores the last element of the list (-5) in num1\n",
        "num2 = numbers[0] # stores the first element of the list (10) in num2\n",
        "num3 = numbers[3] # stores '4' in num3\n",
        "\n",
        "print(\"num1:\", num1)\n",
        "print(\"num2:\", num2)\n",
        "print(\"num3:\", num3)"
      ],
      "id": "406d5997"
    },
    {
      "cell_type": "markdown",
      "metadata": {},
      "source": [
        "### 1. Adding Elements\n",
        "\n",
        "Use `append()` to add an element to the end of the list"
      ],
      "id": "edc9031a-c8c0-4edf-b48b-bbdf4135336b"
    },
    {
      "cell_type": "code",
      "execution_count": 3,
      "metadata": {},
      "outputs": [
        {
          "output_type": "stream",
          "name": "stdout",
          "text": [
            "['apple', 'banana', 'cherry']\n",
            "[1, 2, 3, 4]"
          ]
        }
      ],
      "source": [
        "fruits = [\"apple\", \"banana\"]\n",
        "fruits.append(\"cherry\")\n",
        "print(fruits)  # Output: ['apple', 'banana', 'cherry']\n",
        "\n",
        "numbers = [1, 2, 3]\n",
        "numbers.append(4)\n",
        "print(numbers)  # Output: [1, 2, 3, 4]"
      ],
      "id": "fa877d37"
    },
    {
      "cell_type": "markdown",
      "metadata": {},
      "source": [
        "#### 2. Removing Elements\n",
        "\n",
        "Use `remove()` to remove a specific element:"
      ],
      "id": "5c67ef47-4994-42ea-b72f-5d55117b8487"
    },
    {
      "cell_type": "code",
      "execution_count": 4,
      "metadata": {},
      "outputs": [
        {
          "output_type": "stream",
          "name": "stdout",
          "text": [
            "['apple', 'cherry']\n",
            "[1, 2, 4]"
          ]
        }
      ],
      "source": [
        "fruits = [\"apple\", \"banana\", \"cherry\"]\n",
        "fruits.remove(\"banana\")\n",
        "print(fruits)  # Output: ['apple', 'cherry']\n",
        "\n",
        "numbers = [1, 2, 3, 4]\n",
        "numbers.remove(3)\n",
        "print(numbers)  # Output: [1, 2, 4]"
      ],
      "id": "bee34bdc"
    },
    {
      "cell_type": "markdown",
      "metadata": {},
      "source": [
        "#### 3. List Length\n",
        "\n",
        "Use the `len()` function to get the number of elements in a list:"
      ],
      "id": "56272e9b-dac5-4bff-ba56-16ca2da2da4b"
    },
    {
      "cell_type": "code",
      "execution_count": 5,
      "metadata": {},
      "outputs": [
        {
          "output_type": "stream",
          "name": "stdout",
          "text": [
            "3\n",
            "6"
          ]
        }
      ],
      "source": [
        "fruits = [\"apple\", \"banana\", \"cherry\"]\n",
        "print(len(fruits))  # Output: 3\n",
        "\n",
        "numbers = [1, 2, -3, 4, 2, 10]\n",
        "print(len(numbers))  # Output: 6"
      ],
      "id": "93dedf12"
    },
    {
      "cell_type": "markdown",
      "metadata": {},
      "source": [
        "#### 4. Slicing\n",
        "\n",
        "You can extract a portion of a list using slicing:"
      ],
      "id": "d31f86d5-c379-4cee-b08e-c8092571c1c4"
    },
    {
      "cell_type": "code",
      "execution_count": 6,
      "metadata": {},
      "outputs": [
        {
          "output_type": "stream",
          "name": "stdout",
          "text": [
            "[1, 2, 3]\n",
            "[0, 1, 2]\n",
            "[2, 3, 4, 5]"
          ]
        }
      ],
      "source": [
        "numbers = [0, 1, 2, 3, 4, 5]\n",
        "print(numbers[1:4])  # Output: [1, 2, 3]\n",
        "print(numbers[:3])   # Output: [0, 1, 2]\n",
        "print(numbers[2:])   # Output: [2, 3, 4, 5]"
      ],
      "id": "f704d94a"
    },
    {
      "cell_type": "markdown",
      "metadata": {},
      "source": [
        "## Basic Math Operations\n",
        "\n",
        "Now, let’s we explore simple mathematical operations in Python. These\n",
        "operations include addition, subtraction, multiplication, and division.\n",
        "\n",
        "### Addition\n",
        "\n",
        "Addition combines two or more numbers into a single sum."
      ],
      "id": "c6b4bdf7-4c90-48c9-8a88-a1a17282f8af"
    },
    {
      "cell_type": "code",
      "execution_count": 7,
      "metadata": {},
      "outputs": [
        {
          "output_type": "stream",
          "name": "stdout",
          "text": [
            "Sum: 8"
          ]
        }
      ],
      "source": [
        "# Adding two numbers in Python\n",
        "number1 = 5\n",
        "number2 = 3\n",
        "sum = number1 + number2\n",
        "print(\"Sum:\", sum)"
      ],
      "id": "a7fef808"
    },
    {
      "cell_type": "markdown",
      "metadata": {},
      "source": [
        "### Subtraction\n",
        "\n",
        "Subtraction involves deducting one or more numbers from another."
      ],
      "id": "ce58c0e9-9c94-40c9-a16b-d94153baf12a"
    },
    {
      "cell_type": "code",
      "execution_count": 8,
      "metadata": {},
      "outputs": [
        {
          "output_type": "stream",
          "name": "stdout",
          "text": [
            "Difference: 2"
          ]
        }
      ],
      "source": [
        "# Subtracting two numbers in Python\n",
        "number1 = 5\n",
        "number2 = 3\n",
        "difference = number1 - number2\n",
        "print(\"Difference:\", difference)"
      ],
      "id": "a399c224"
    },
    {
      "cell_type": "markdown",
      "metadata": {},
      "source": [
        "### Multiplication\n",
        "\n",
        "Multiplication is the process of adding a number to itself a certain\n",
        "number of times."
      ],
      "id": "11e9b4a0-46f5-4c64-9edb-5648a33a1823"
    },
    {
      "cell_type": "code",
      "execution_count": 9,
      "metadata": {},
      "outputs": [
        {
          "output_type": "stream",
          "name": "stdout",
          "text": [
            "Product: 15"
          ]
        }
      ],
      "source": [
        "# Multiplying two numbers in Python\n",
        "number1 = 5\n",
        "number2 = 3\n",
        "product = number1 * number2\n",
        "print(\"Product:\", product)"
      ],
      "id": "37637db8"
    },
    {
      "cell_type": "markdown",
      "metadata": {},
      "source": [
        "### Division\n",
        "\n",
        "Division is splitting a number into equal parts."
      ],
      "id": "26cd1cbf-4d2c-4b92-bd78-b8716feb1288"
    },
    {
      "cell_type": "code",
      "execution_count": 10,
      "metadata": {},
      "outputs": [
        {
          "output_type": "stream",
          "name": "stdout",
          "text": [
            "Quotient: 5.0"
          ]
        }
      ],
      "source": [
        "# Dividing two numbers in Python\n",
        "number1 = 10\n",
        "number2 = 2\n",
        "quotient = number1 / number2\n",
        "print(\"Quotient:\", quotient)"
      ],
      "id": "80347ffb"
    },
    {
      "cell_type": "markdown",
      "metadata": {},
      "source": [
        "### Raising to a Power"
      ],
      "id": "dad08230-859d-4ad6-ac90-711012ed4918"
    },
    {
      "cell_type": "code",
      "execution_count": 11,
      "metadata": {},
      "outputs": [
        {
          "output_type": "stream",
          "name": "stdout",
          "text": [
            "2 raised to the power of 3 is 8"
          ]
        }
      ],
      "source": [
        "base = 2\n",
        "exponent = 3\n",
        "result = base ** exponent\n",
        "print(f\"{base} raised to the power of {exponent} is {result}\")"
      ],
      "id": "83ecea71"
    },
    {
      "cell_type": "markdown",
      "metadata": {},
      "source": [
        "Remember that\n",
        "`print(f\"{base} raised to the power of {exponent} is {result}\")` uses an\n",
        "f-string to format the output, which allows to include variables\n",
        "directly in the string in between curly braces.\n",
        "\n",
        "## Data Representation Using Nested Lists\n",
        "\n",
        "Nested lists are lists within lists, allowing for more complex data\n",
        "representation. Here’s an example of a nested list:"
      ],
      "id": "b29a094a-640b-4aea-9b33-9927d4325dd2"
    },
    {
      "cell_type": "code",
      "execution_count": 12,
      "metadata": {},
      "outputs": [
        {
          "output_type": "stream",
          "name": "stdout",
          "text": [
            "The second person's name is: Bob\n",
            "The third person's age is: 42\n",
            "\n",
            "Data Table:\n",
            "Name       Age   City            Occupation\n",
            "Alice      28    New York        Engineer  \n",
            "Bob        35    San Francisco   Designer  \n",
            "Charlie    42    London          Manager   \n",
            "Diana      31    Berlin          Artist    \n",
            "Ethan      25    Tokyo           Teacher   \n",
            "Frank      39    Sydney          Doctor    "
          ]
        }
      ],
      "source": [
        "# Create a nested list representing a data table\n",
        "# with 4 columns and 6 rows (including the header)\n",
        "data = [\n",
        "    [\"Name\", \"Age\", \"City\", \"Occupation\"],\n",
        "    [\"Alice\", 28, \"New York\", \"Engineer\"],\n",
        "    [\"Bob\", 35, \"San Francisco\", \"Designer\"],\n",
        "    [\"Charlie\", 42, \"London\", \"Manager\"],\n",
        "    [\"Diana\", 31, \"Paris\", \"Artist\"],\n",
        "    [\"Ethan\", 25, \"Tokyo\", \"Teacher\"]\n",
        "]\n",
        "\n",
        "# Accessing data\n",
        "print(f\"The second person's name is: {data[2][0]}\")\n",
        "print(f\"The third person's age is: {data[3][1]}\")\n",
        "\n",
        "# Modifying data\n",
        "data[4][2] = \"Berlin\"  # Change Diana's city to Berlin\n",
        "\n",
        "# Adding a new row\n",
        "data.append([\"Frank\", 39, \"Sydney\", \"Doctor\"])\n",
        "\n",
        "# Printing the entire table\n",
        "print(\"\\nData Table:\")\n",
        "for row in data:\n",
        "    print(f\"{row[0]:<10} {row[1]:<5} {row[2]:<15} {row[3]:<10}\")"
      ],
      "id": "cc4fb33f"
    },
    {
      "cell_type": "markdown",
      "metadata": {},
      "source": [
        "Explanation:\n",
        "\n",
        "1.  We created a nested list called `data`. Each inner list represents a\n",
        "    row, and each element in the inner list represents a column.\n",
        "\n",
        "2.  The first row `[\"Name\", \"Age\", \"City\", \"Occupation\"]` serves as the\n",
        "    header.\n",
        "\n",
        "3.  We demonstrated how to access specific elements using indexing. For\n",
        "    example, `data[2][0]` accesses the name in the second row (remember,\n",
        "    indexing starts at 0).\n",
        "\n",
        "4.  We show how to modify data by changing Diana’s city from Paris to\n",
        "    Berlin.\n",
        "\n",
        "5.  We append a new row to the list using the `append()` method.\n",
        "\n",
        "6.  Finally, we print the entire table using a formatted string. The\n",
        "    `:<10` syntax in the f-string ensures that each column is aligned\n",
        "    and has a minimum width of 10 characters (or 5 for the Age column).\n",
        "\n",
        "This example showcases how nested lists can be used to represent tabular\n",
        "data and how to perform common operations on such data structures.\n",
        "\n",
        "**Note**: In practice, however, we will be using later on (in the next\n",
        "tutorial) more advanced data structures like **Pandas DataFrames** and\n",
        "**Numpy Arrays** for handling tabular data in Python. **Pandas** and\n",
        "**Numpy** are what we call Python **libraries**. These libraries make it\n",
        "much easier to manipulate and perform operations with data."
      ],
      "id": "f48c01f0-7d39-4480-9aaa-6c3bf724c939"
    }
  ],
  "nbformat": 4,
  "nbformat_minor": 5,
  "metadata": {
    "kernelspec": {
      "name": "python3",
      "display_name": "Python 3 (ipykernel)",
      "language": "python"
    }
  }
}