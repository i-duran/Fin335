{
  "cells": [
    {
      "cell_type": "markdown",
      "metadata": {},
      "source": [
        "# Introduction to Python (Part 2)\n",
        "\n",
        "## Python Lists and Basic Operations\n",
        "\n",
        "Lists are one of the most versatile and commonly used data structures in\n",
        "Python. They allow you to store multiple items in a single variable.\n",
        "\n",
        "### Creating Lists\n",
        "\n",
        "You can create a list by enclosing comma-separated values in square\n",
        "brackets:"
      ],
      "id": "285d0953-4ea0-41d2-8dc9-5da6bb445d5e"
    },
    {
      "cell_type": "code",
      "execution_count": 1,
      "metadata": {},
      "outputs": [],
      "source": [
        "fruits = [\"apple\", \"banana\", \"cherry\"]\n",
        "numbers = [1, 2, 3, 4, 5]\n",
        "mixed = [1, \"hello\", 3.14, True]"
      ],
      "id": "7ed82575"
    },
    {
      "cell_type": "markdown",
      "metadata": {},
      "source": [
        "### Accessing List Elements\n",
        "\n",
        "List elements are indexed starting from 0. You can access individual\n",
        "elements using square brackets:"
      ],
      "id": "1b65d542-54f8-4d55-a1b7-a99e76c62054"
    },
    {
      "cell_type": "code",
      "execution_count": 2,
      "metadata": {},
      "outputs": [
        {
          "output_type": "stream",
          "name": "stdout",
          "text": [
            "['apple', 'banana', 'cherry']\n",
            "[1, 2, 3, 4]"
          ]
        }
      ],
      "source": [
        "fruits = [\"apple\", \"banana\"]\n",
        "fruits.append(\"cherry\")\n",
        "print(fruits)  # Output: ['apple', 'banana', 'cherry']\n",
        "\n",
        "numbers = [1, 2, 3]\n",
        "numbers.append(4)\n",
        "print(numbers)  # Output: [1, 2, 3, 4]"
      ],
      "id": "c1e57e29"
    },
    {
      "cell_type": "markdown",
      "metadata": {},
      "source": [
        "#### 2. Removing Elements\n",
        "\n",
        "Use `remove()` to remove a specific element:\n",
        "\n",
        "``` python\n",
        "fruits = [\"apple\", \"banana\", \"cherry\"]\n",
        "fruits.remove(\"banana\")\n",
        "print(fruits)  # Output: ['apple', 'cherry']\n",
        "\n",
        "numbers = [1, 2, 3, 4]\n",
        "numbers.remove(3)\n",
        "print(numbers)  # Output: [1, 2, 4]\n",
        "```\n",
        "\n",
        "#### 3. List Length\n",
        "\n",
        "Use the `len()` function to get the number of elements in a list:"
      ],
      "id": "3ff9d59c-c465-470b-b235-a6f7520e2fbb"
    },
    {
      "cell_type": "code",
      "execution_count": 3,
      "metadata": {},
      "outputs": [
        {
          "output_type": "stream",
          "name": "stdout",
          "text": [
            "3\n",
            "6"
          ]
        }
      ],
      "source": [
        "fruits = [\"apple\", \"banana\", \"cherry\"]\n",
        "print(len(fruits))  # Output: 3\n",
        "\n",
        "numbers = [1, 2, -3, 4, 2, 10]\n",
        "print(len(numbers))  # Output: 6"
      ],
      "id": "eab9ef04"
    },
    {
      "cell_type": "markdown",
      "metadata": {},
      "source": [
        "#### 4. Slicing\n",
        "\n",
        "You can extract a portion of a list using slicing:"
      ],
      "id": "db389912-7927-46cb-9c5a-7e7b912e9d6e"
    },
    {
      "cell_type": "code",
      "execution_count": 4,
      "metadata": {},
      "outputs": [
        {
          "output_type": "stream",
          "name": "stdout",
          "text": [
            "[1, 2, 3]\n",
            "[0, 1, 2]\n",
            "[2, 3, 4, 5]"
          ]
        }
      ],
      "source": [
        "numbers = [0, 1, 2, 3, 4, 5]\n",
        "print(numbers[1:4])  # Output: [1, 2, 3]\n",
        "print(numbers[:3])   # Output: [0, 1, 2]\n",
        "print(numbers[2:])   # Output: [2, 3, 4, 5]"
      ],
      "id": "921d752a"
    },
    {
      "cell_type": "markdown",
      "metadata": {},
      "source": [
        "## Basic Math Operations\n",
        "\n",
        "Now, let’s we explore simple mathematical operations in Python. These\n",
        "operations include addition, subtraction, multiplication, and division.\n",
        "\n",
        "### Addition\n",
        "\n",
        "Addition combines two or more numbers into a single sum."
      ],
      "id": "13066454-8428-46ce-b3db-11ecf97928ce"
    },
    {
      "cell_type": "code",
      "execution_count": 5,
      "metadata": {},
      "outputs": [
        {
          "output_type": "stream",
          "name": "stdout",
          "text": [
            "Sum: 8"
          ]
        }
      ],
      "source": [
        "# Adding two numbers in Python\n",
        "number1 = 5\n",
        "number2 = 3\n",
        "sum = number1 + number2\n",
        "print(\"Sum:\", sum)"
      ],
      "id": "4bfe855b"
    },
    {
      "cell_type": "markdown",
      "metadata": {},
      "source": [
        "### Subtraction\n",
        "\n",
        "Subtraction involves deducting one or more numbers from another."
      ],
      "id": "25733032-a716-4adf-b460-410f67880aa9"
    },
    {
      "cell_type": "code",
      "execution_count": 6,
      "metadata": {},
      "outputs": [
        {
          "output_type": "stream",
          "name": "stdout",
          "text": [
            "Difference: 2"
          ]
        }
      ],
      "source": [
        "# Subtracting two numbers in Python\n",
        "number1 = 5\n",
        "number2 = 3\n",
        "difference = number1 - number2\n",
        "print(\"Difference:\", difference)"
      ],
      "id": "4e94a7cb"
    },
    {
      "cell_type": "markdown",
      "metadata": {},
      "source": [
        "### Multiplication\n",
        "\n",
        "Multiplication is the process of adding a number to itself a certain\n",
        "number of times."
      ],
      "id": "416fb82d-a91f-4bad-b5f3-95017539a30f"
    },
    {
      "cell_type": "code",
      "execution_count": 7,
      "metadata": {},
      "outputs": [
        {
          "output_type": "stream",
          "name": "stdout",
          "text": [
            "Product: 15"
          ]
        }
      ],
      "source": [
        "# Multiplying two numbers in Python\n",
        "number1 = 5\n",
        "number2 = 3\n",
        "product = number1 * number2\n",
        "print(\"Product:\", product)"
      ],
      "id": "bb4e2ce6"
    },
    {
      "cell_type": "markdown",
      "metadata": {},
      "source": [
        "### Division\n",
        "\n",
        "Division is splitting a number into equal parts."
      ],
      "id": "7ca95802-a64f-4fce-9bb1-8b3f03f7fb04"
    },
    {
      "cell_type": "code",
      "execution_count": 8,
      "metadata": {},
      "outputs": [
        {
          "output_type": "stream",
          "name": "stdout",
          "text": [
            "Quotient: 5.0"
          ]
        }
      ],
      "source": [
        "# Dividing two numbers in Python\n",
        "number1 = 10\n",
        "number2 = 2\n",
        "quotient = number1 / number2\n",
        "print(\"Quotient:\", quotient)"
      ],
      "id": "880dc957"
    },
    {
      "cell_type": "markdown",
      "metadata": {},
      "source": [
        "### Raising to a Power"
      ],
      "id": "0b6cd04f-0f65-4a6e-96ff-74efe23a668e"
    },
    {
      "cell_type": "code",
      "execution_count": 9,
      "metadata": {},
      "outputs": [
        {
          "output_type": "stream",
          "name": "stdout",
          "text": [
            "2 raised to the power of 3 is 8"
          ]
        }
      ],
      "source": [
        "base = 2\n",
        "exponent = 3\n",
        "result = base ** exponent\n",
        "print(f\"{base} raised to the power of {exponent} is {result}\")"
      ],
      "id": "66cd929d"
    },
    {
      "cell_type": "markdown",
      "metadata": {},
      "source": [
        "Remember that\n",
        "`print(f\"{base} raised to the power of {exponent} is {result}\")` uses an\n",
        "f-string to format the output, which allows to include variables\n",
        "directly in the string in between curly braces.\n",
        "\n",
        "## Data Representation Using Nested Lists\n",
        "\n",
        "Nested lists are lists within lists, allowing for more complex data\n",
        "representation. Here’s an example of a nested list:"
      ],
      "id": "2807af67-82ce-462a-b8b3-62916938bdb0"
    },
    {
      "cell_type": "code",
      "execution_count": 10,
      "metadata": {},
      "outputs": [
        {
          "output_type": "stream",
          "name": "stdout",
          "text": [
            "The second person's name is: Bob\n",
            "The third person's age is: 42\n",
            "\n",
            "Data Table:\n",
            "Name       Age   City            Occupation\n",
            "Alice      28    New York        Engineer  \n",
            "Bob        35    San Francisco   Designer  \n",
            "Charlie    42    London          Manager   \n",
            "Diana      31    Berlin          Artist    \n",
            "Ethan      25    Tokyo           Teacher   \n",
            "Frank      39    Sydney          Doctor    "
          ]
        }
      ],
      "source": [
        "# Create a nested list representing a data table\n",
        "# with 4 columns and 6 rows (including the header)\n",
        "data = [\n",
        "    [\"Name\", \"Age\", \"City\", \"Occupation\"],\n",
        "    [\"Alice\", 28, \"New York\", \"Engineer\"],\n",
        "    [\"Bob\", 35, \"San Francisco\", \"Designer\"],\n",
        "    [\"Charlie\", 42, \"London\", \"Manager\"],\n",
        "    [\"Diana\", 31, \"Paris\", \"Artist\"],\n",
        "    [\"Ethan\", 25, \"Tokyo\", \"Teacher\"]\n",
        "]\n",
        "\n",
        "# Accessing data\n",
        "print(f\"The second person's name is: {data[2][0]}\")\n",
        "print(f\"The third person's age is: {data[3][1]}\")\n",
        "\n",
        "# Modifying data\n",
        "data[4][2] = \"Berlin\"  # Change Diana's city to Berlin\n",
        "\n",
        "# Adding a new row\n",
        "data.append([\"Frank\", 39, \"Sydney\", \"Doctor\"])\n",
        "\n",
        "# Printing the entire table\n",
        "print(\"\\nData Table:\")\n",
        "for row in data:\n",
        "    print(f\"{row[0]:<10} {row[1]:<5} {row[2]:<15} {row[3]:<10}\")"
      ],
      "id": "45ca489f"
    },
    {
      "cell_type": "markdown",
      "metadata": {},
      "source": [
        "Explanation:\n",
        "\n",
        "1.  We created a nested list called `data`. Each inner list represents a\n",
        "    row, and each element in the inner list represents a column.\n",
        "\n",
        "2.  The first row `[\"Name\", \"Age\", \"City\", \"Occupation\"]` serves as the\n",
        "    header.\n",
        "\n",
        "3.  We demonstrated how to access specific elements using indexing. For\n",
        "    example, `data[2][0]` accesses the name in the second row (remember,\n",
        "    indexing starts at 0).\n",
        "\n",
        "4.  We show how to modify data by changing Diana’s city from Paris to\n",
        "    Berlin.\n",
        "\n",
        "5.  We append a new row to the list using the `append()` method.\n",
        "\n",
        "6.  Finally, we print the entire table using a formatted string. The\n",
        "    `:<10` syntax in the f-string ensures that each column is aligned\n",
        "    and has a minimum width of 10 characters (or 5 for the Age column).\n",
        "\n",
        "This example showcases how nested lists can be used to represent tabular\n",
        "data and how to perform common operations on such data structures.\n",
        "\n",
        "**Note**: In practice, however, we will be using later on (in the next\n",
        "tutorial) more advanced data structures like **Pandas DataFrames** and\n",
        "**Numpy Arrays** for handling tabular data in Python. **Pandas** and\n",
        "**Numpy** are what we call Python **libraries**. These libraries make it\n",
        "much easier to manipulate and perform operations with data."
      ],
      "id": "450aa8cc-5be0-4167-b214-da9eae57dadf"
    }
  ],
  "nbformat": 4,
  "nbformat_minor": 5,
  "metadata": {
    "kernelspec": {
      "name": "python3",
      "display_name": "Python 3 (ipykernel)",
      "language": "python"
    },
    "language_info": {
      "name": "python",
      "codemirror_mode": {
        "name": "ipython",
        "version": "3"
      },
      "file_extension": ".py",
      "mimetype": "text/x-python",
      "nbconvert_exporter": "python",
      "pygments_lexer": "ipython3",
      "version": "3.12.4"
    }
  }
}