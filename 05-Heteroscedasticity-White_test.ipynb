{
  "cells": [
    {
      "cell_type": "markdown",
      "metadata": {},
      "source": [
        "# Testing for Heteroscedasticity\n",
        "\n",
        "## Data set\n",
        "\n",
        "We will be using the same modified wages data set of the previous\n",
        "section.\n",
        "\n",
        "Remember that this data has the following variables:\n",
        "\n",
        "-   `wage`: average hourly earnings\n",
        "-   `educ`: years of education\n",
        "-   `exper`: years potential experience\n",
        "-   `tenure`: years with current employer\n",
        "-   `married`: =1 if married\n",
        "-   `numdep`: number of dependents\n",
        "-   `gender`: male or female\n",
        "-   `skin`: color of the skin (white or nonwhite)\n",
        "\n",
        "## Base regression"
      ],
      "id": "768954f4-8318-49b3-8b6e-7a52a97e1340"
    },
    {
      "cell_type": "code",
      "execution_count": 1,
      "metadata": {},
      "outputs": [
        {
          "output_type": "display_data",
          "metadata": {},
          "data": {
            "text/html": [
              "\n",
              "</div>"
            ]
          }
        }
      ],
      "source": [
        "import pandas as pd\n",
        "import numpy as np\n",
        "import statsmodels.formula.api as smf\n",
        "\n",
        "data = pd.read_csv(\"./data/wage.csv\")\n",
        "data.head()"
      ],
      "id": "340a1900"
    },
    {
      "cell_type": "markdown",
      "metadata": {},
      "source": [
        "As before, we first want to construct the dummy variables for `gender`\n",
        "and `skin`:"
      ],
      "id": "c0246171-7427-4e18-bf13-7b67302f390b"
    },
    {
      "cell_type": "code",
      "execution_count": 2,
      "metadata": {},
      "outputs": [
        {
          "output_type": "display_data",
          "metadata": {},
          "data": {
            "text/html": [
              "\n",
              "</div>"
            ]
          }
        }
      ],
      "source": [
        "data = pd.get_dummies(data, columns=[\"gender\", \"skin\"], drop_first=False, dtype=int)\n",
        "data.head()"
      ],
      "id": "8c3d8496"
    },
    {
      "cell_type": "markdown",
      "metadata": {},
      "source": [
        "Now, let’s run a regression:"
      ],
      "id": "31756bcc-0262-4431-9b6b-165d0559b21c"
    },
    {
      "cell_type": "code",
      "execution_count": 3,
      "metadata": {},
      "outputs": [
        {
          "output_type": "stream",
          "name": "stdout",
          "text": [
            "                            OLS Regression Results                            \n",
            "==============================================================================\n",
            "Dep. Variable:                   wage   R-squared:                       0.370\n",
            "Model:                            OLS   Adj. R-squared:                  0.362\n",
            "Method:                 Least Squares   F-statistic:                     43.54\n",
            "Date:                Sun, 03 Nov 2024   Prob (F-statistic):           2.53e-48\n",
            "Time:                        22:41:31   Log-Likelihood:                -1311.4\n",
            "No. Observations:                 526   AIC:                             2639.\n",
            "Df Residuals:                     518   BIC:                             2673.\n",
            "Df Model:                           7                                         \n",
            "Covariance Type:            nonrobust                                         \n",
            "=================================================================================\n",
            "                    coef    std err          t      P>|t|      [0.025      0.975]\n",
            "---------------------------------------------------------------------------------\n",
            "Intercept        -1.9799      0.783     -2.530      0.012      -3.517      -0.442\n",
            "educ              0.5746      0.052     11.034      0.000       0.472       0.677\n",
            "exper             0.0219      0.012      1.789      0.074      -0.002       0.046\n",
            "tenure            0.1383      0.021      6.541      0.000       0.097       0.180\n",
            "married           0.4597      0.295      1.556      0.120      -0.121       1.040\n",
            "numdep            0.1465      0.109      1.345      0.179      -0.067       0.360\n",
            "gender_female    -1.7594      0.267     -6.592      0.000      -2.284      -1.235\n",
            "skin_nonwhite    -0.1100      0.427     -0.257      0.797      -0.950       0.730\n",
            "==============================================================================\n",
            "Omnibus:                      186.895   Durbin-Watson:                   1.788\n",
            "Prob(Omnibus):                  0.000   Jarque-Bera (JB):              711.513\n",
            "Skew:                           1.604   Prob(JB):                    3.14e-155\n",
            "Kurtosis:                       7.709   Cond. No.                         153.\n",
            "==============================================================================\n",
            "\n",
            "Notes:\n",
            "[1] Standard Errors assume that the covariance matrix of the errors is correctly specified."
          ]
        }
      ],
      "source": [
        "model = smf.ols(\"wage ~ educ + exper + tenure + married + numdep + gender_female + skin_nonwhite\", data=data)\n",
        "results = model.fit()\n",
        "print(results.summary())"
      ],
      "id": "9ba3321e"
    },
    {
      "cell_type": "markdown",
      "metadata": {},
      "source": [
        "## Performing the White test\n",
        "\n",
        "Now, let’s perform the White test, which is also available in the\n",
        "`statsmodels` library. **Note the following**:\n",
        "\n",
        "-   We use the same independent variables of the original model,\n",
        "    obtained with `results.model.exog`.\n",
        "-   The estimated residual are obtained from the previous estimation\n",
        "    with `results.resid`.\n",
        "-   `statsmodels` automatically include squares and interaction terms to\n",
        "    run the auxiliary regression for the White test (so we don’t have to\n",
        "    do this ourselves)."
      ],
      "id": "2b1cb55a-4fc4-4dea-bc10-d3ec965a9371"
    },
    {
      "cell_type": "code",
      "execution_count": 4,
      "metadata": {},
      "outputs": [
        {
          "output_type": "stream",
          "name": "stdout",
          "text": [
            "Test Statistic: 76.30870031228504\n",
            "Test Statistic p-value: 1.7487062379433416e-05\n",
            "F-Statistic: 2.6143065587494148\n",
            "F-Statistic p-value: 6.246658985394247e-06"
          ]
        }
      ],
      "source": [
        "import statsmodels.stats.diagnostic as diag\n",
        "\n",
        "white_test = diag.het_white(results.resid, results.model.exog)\n",
        "\n",
        "# The output consists of the test statistic and the associated p-value\n",
        "labels = ['Test Statistic', 'Test Statistic p-value', 'F-Statistic', 'F-Statistic p-value']\n",
        "white_test_summary = dict(zip(labels, white_test))\n",
        "\n",
        "for key, value in white_test_summary.items():\n",
        "    print(f\"{key}: {value}\")"
      ],
      "id": "2c964450"
    },
    {
      "cell_type": "markdown",
      "metadata": {},
      "source": [
        "### Analyze the results of the initial White test\n",
        "\n",
        "-   Observe that `p-values` from the White test are close to zero\n",
        "-   Given that the null hypothesis in the White Test is that residuals\n",
        "    are homoscedastic, in this case, **we reject the null hypothesis**,\n",
        "    therefore we say that **residuals are heteroscedastic instead**,\n",
        "    which is a problem and we should try to correct for this.\n",
        "\n",
        "## Detect which variables affect the variance of the error term $\\text{Var}(u)$\n",
        "\n",
        "To accomplish this, we want to see which terms are significantly\n",
        "affecting the estimated squared error term (i.e., $\\widehat{u}^2$).\n",
        "Therefore, we need to run the regression of the White test ourselves (or\n",
        "something similar to it).\n",
        "\n",
        "For example, we regress $\\widehat{u}^2$ on the same independent\n",
        "variables and their squares, but excluding the dummy variables and the\n",
        "interaction between variables for simplicity:"
      ],
      "id": "0d09917e-8f39-4a69-8f60-0f67fe3befdf"
    },
    {
      "cell_type": "code",
      "execution_count": 5,
      "metadata": {},
      "outputs": [
        {
          "output_type": "stream",
          "name": "stdout",
          "text": [
            "\n",
            "Auxiliary Regression Summary (for White's Test):\n",
            "\n",
            "                            OLS Regression Results                            \n",
            "==============================================================================\n",
            "Dep. Variable:               resid_sq   R-squared:                       0.119\n",
            "Model:                            OLS   Adj. R-squared:                  0.101\n",
            "Method:                 Least Squares   F-statistic:                     6.337\n",
            "Date:                Sun, 03 Nov 2024   Prob (F-statistic):           7.20e-10\n",
            "Time:                        22:41:31   Log-Likelihood:                -2343.6\n",
            "No. Observations:                 526   AIC:                             4711.\n",
            "Df Residuals:                     514   BIC:                             4762.\n",
            "Df Model:                          11                                         \n",
            "Covariance Type:            nonrobust                                         \n",
            "=================================================================================\n",
            "                    coef    std err          t      P>|t|      [0.025      0.975]\n",
            "---------------------------------------------------------------------------------\n",
            "Intercept        16.8784     10.207      1.654      0.099      -3.175      36.931\n",
            "educ             -4.2397      1.598     -2.653      0.008      -7.380      -1.100\n",
            "exper             0.7940      0.289      2.749      0.006       0.227       1.361\n",
            "tenure            0.7152      0.362      1.975      0.049       0.004       1.427\n",
            "married          -2.7648      2.202     -1.256      0.210      -7.090       1.561\n",
            "numdep            2.0890      1.975      1.058      0.291      -1.790       5.968\n",
            "gender_female    -3.1165      1.933     -1.612      0.107      -6.914       0.681\n",
            "skin_nonwhite    -2.0770      3.067     -0.677      0.499      -8.102       3.948\n",
            "educ_sq           0.2346      0.066      3.575      0.000       0.106       0.364\n",
            "exper_sq         -0.0163      0.006     -2.605      0.009      -0.029      -0.004\n",
            "tenure_sq        -0.0070      0.012     -0.563      0.574      -0.031       0.017\n",
            "numdep_sq        -0.5881      0.493     -1.193      0.233      -1.556       0.380\n",
            "==============================================================================\n",
            "Omnibus:                      616.162   Durbin-Watson:                   1.879\n",
            "Prob(Omnibus):                  0.000   Jarque-Bera (JB):            38143.071\n",
            "Skew:                           5.683   Prob(JB):                         0.00\n",
            "Kurtosis:                      43.139   Cond. No.                     8.88e+03\n",
            "==============================================================================\n",
            "\n",
            "Notes:\n",
            "[1] Standard Errors assume that the covariance matrix of the errors is correctly specified.\n",
            "[2] The condition number is large, 8.88e+03. This might indicate that there are\n",
            "strong multicollinearity or other numerical problems."
          ]
        }
      ],
      "source": [
        "# Calculate the squared residuals\n",
        "data['resid_sq'] = results.resid ** 2\n",
        "\n",
        "# Calculate the square of some of the independent variables\n",
        "\n",
        "data['educ_sq'] = data['educ'] ** 2\n",
        "data['exper_sq'] = data['exper'] ** 2\n",
        "data['tenure_sq'] = data['tenure'] ** 2\n",
        "data['numdep_sq'] = data['numdep'] ** 2\n",
        "\n",
        "# Fit the auxiliary regression\n",
        "aux_model = smf.ols('resid_sq ~ educ + exper + tenure + married + numdep + gender_female + skin_nonwhite + educ_sq + exper_sq + tenure_sq + numdep_sq ', data=data)\n",
        "aux_results = aux_model.fit()\n",
        "\n",
        "# Display the auxiliary regression results\n",
        "print(\"\\nAuxiliary Regression Summary (for White's Test):\\n\")\n",
        "print(aux_results.summary())"
      ],
      "id": "0c43097d"
    },
    {
      "cell_type": "markdown",
      "metadata": {},
      "source": [
        "### Analyze the results of the White test regression\n",
        "\n",
        "-   We can see that some of the variables are significant in explaining\n",
        "    the square of the estimated residuals\n",
        "-   In particular, the square of `educ` and `exper` are significant, so\n",
        "    we will use them to try to correct for heteroscedasticity.\n",
        "\n",
        "## Run a WLS estimation\n",
        "\n",
        "To try fixing the problem of heteroscedasticity, lets run a WLS\n",
        "estimation:\n",
        "\n",
        "We will estimate the basic model again with OLS and the modified model\n",
        "with Weighted Least Squares or WLS, for clarity:"
      ],
      "id": "fbb73bb0-9f38-4fc2-ad20-a1e454b5d7d0"
    },
    {
      "cell_type": "code",
      "execution_count": 6,
      "metadata": {},
      "outputs": [
        {
          "output_type": "stream",
          "name": "stdout",
          "text": [
            "\n",
            "WLS model summary:\n",
            "\n",
            "                            OLS Regression Results                            \n",
            "==============================================================================\n",
            "Dep. Variable:                 w_wage   R-squared:                       0.382\n",
            "Model:                            OLS   Adj. R-squared:                  0.373\n",
            "Method:                 Least Squares   F-statistic:                     45.71\n",
            "Date:                Sun, 03 Nov 2024   Prob (F-statistic):           2.37e-50\n",
            "Time:                        22:41:31   Log-Likelihood:                 316.96\n",
            "No. Observations:                 526   AIC:                            -617.9\n",
            "Df Residuals:                     518   BIC:                            -583.8\n",
            "Df Model:                           7                                         \n",
            "Covariance Type:            nonrobust                                         \n",
            "===================================================================================\n",
            "                      coef    std err          t      P>|t|      [0.025      0.975]\n",
            "-----------------------------------------------------------------------------------\n",
            "Intercept          -0.4050      0.081     -5.000      0.000      -0.564      -0.246\n",
            "w_educ              0.7241      0.069     10.534      0.000       0.589       0.859\n",
            "w_exper             0.3463      0.063      5.492      0.000       0.222       0.470\n",
            "w_tenure            0.1565      0.027      5.731      0.000       0.103       0.210\n",
            "w_married           0.2079      0.253      0.821      0.412      -0.289       0.705\n",
            "w_numdep           -0.1505      0.078     -1.940      0.053      -0.303       0.002\n",
            "w_gender_female    -1.2054      0.204     -5.900      0.000      -1.607      -0.804\n",
            "w_skin_nonwhite     0.0921      0.350      0.263      0.793      -0.596       0.781\n",
            "==============================================================================\n",
            "Omnibus:                      181.319   Durbin-Watson:                   1.740\n",
            "Prob(Omnibus):                  0.000   Jarque-Bera (JB):              612.932\n",
            "Skew:                           1.603   Prob(JB):                    8.01e-134\n",
            "Kurtosis:                       7.206   Cond. No.                         83.1\n",
            "==============================================================================\n",
            "\n",
            "Notes:\n",
            "[1] Standard Errors assume that the covariance matrix of the errors is correctly specified."
          ]
        }
      ],
      "source": [
        "# Load the dataset and construct dummies\n",
        "data = pd.read_csv(\"data/wage.csv\")\n",
        "data = pd.get_dummies(data, columns=[\"gender\", \"skin\"], drop_first=False, dtype=int)\n",
        "\n",
        "# Initial OLS model\n",
        "model_ols = smf.ols('wage ~ educ + exper + tenure + married + numdep + gender_female + skin_nonwhite', data=data)\n",
        "results_ols = model_ols.fit()\n",
        "\n",
        "# Estimate residuals\n",
        "residuals = results_ols.resid\n",
        "\n",
        "# Assuming variance is proportional to the square of 'educ' and 'exper' as concluded above\n",
        "data['h'] = data['educ'] ** 2 + data['exper'] ** 2\n",
        "\n",
        "# Calculate the inverse of the root of h\n",
        "weights = 1 / np.sqrt(data['h'])\n",
        "\n",
        "# Create weighted variables by multiplying each variable by the weights\n",
        "data['w_wage'] = data['wage'] * weights\n",
        "data['w_educ'] = data['educ'] * weights\n",
        "data['w_exper'] = data['exper'] * weights\n",
        "data['w_tenure'] = data['tenure'] * weights\n",
        "data['w_married'] = data['married'] * weights\n",
        "data['w_numdep'] = data['numdep'] * weights\n",
        "data['w_gender_female'] = data['gender_female'] * weights\n",
        "data['w_skin_nonwhite'] = data['skin_nonwhite'] * weights\n",
        "\n",
        "# Run OLS with weighted variables (that is, WLS)\n",
        "model_wls = smf.ols('w_wage ~ w_educ + w_exper + w_tenure + w_married + w_numdep + w_gender_female + w_skin_nonwhite', data=data)\n",
        "\n",
        "results_wls = model_wls.fit()\n",
        "\n",
        "# Output the results\n",
        "print(\"\\nWLS model summary:\\n\")\n",
        "print(results_wls.summary())"
      ],
      "id": "6ec10052"
    },
    {
      "cell_type": "markdown",
      "metadata": {},
      "source": [
        "Now, we perform the White test once again to check whether errors are\n",
        "now homoscedastic (which is what we want) or are still heteroscedastic:"
      ],
      "id": "2f5b954b-52dd-41f0-b261-70348a76f0c4"
    },
    {
      "cell_type": "code",
      "execution_count": 7,
      "metadata": {},
      "outputs": [
        {
          "output_type": "stream",
          "name": "stdout",
          "text": [
            "Test Statistic: 42.91062121627159\n",
            "Test Statistic p-value: 0.140575269122546\n",
            "F-Statistic: 1.282743692289221\n",
            "F-Statistic p-value: 0.13561295323905587"
          ]
        }
      ],
      "source": [
        "white_test = diag.het_white(results_wls.resid, results_wls.model.exog)\n",
        "\n",
        "# The output consists of the test statistic and the associated p-value\n",
        "labels = ['Test Statistic', 'Test Statistic p-value', 'F-Statistic', 'F-Statistic p-value']\n",
        "white_test_summary = dict(zip(labels, white_test))\n",
        "\n",
        "for key, value in white_test_summary.items():\n",
        "    print(f\"{key}: {value}\")"
      ],
      "id": "e321d434"
    },
    {
      "cell_type": "markdown",
      "metadata": {},
      "source": [
        "As we can see, the `p-value` of the White test is larger than 0.1:\n",
        "\n",
        "    Test Statistic p-value: 0.140575269122546\n",
        "\n",
        "This means that we **fail to reject the null hypothesis of the White\n",
        "test, and so we consider the residuals to be homoscedastic**.\n",
        "\n",
        "**Conclusion**: we have managed to detect and correct for\n",
        "heteroscedasticity!"
      ],
      "id": "1062d553-2a61-4232-ad6b-a473d3609d8b"
    }
  ],
  "nbformat": 4,
  "nbformat_minor": 5,
  "metadata": {
    "kernelspec": {
      "name": "python3",
      "display_name": "Python 3 (ipykernel)",
      "language": "python"
    }
  }
}
