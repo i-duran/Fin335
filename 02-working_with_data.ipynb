{
  "cells": [
    {
      "cell_type": "markdown",
      "metadata": {},
      "source": [
        "# Loading and Manipulating Data with Pandas\n",
        "\n",
        "In this guide, we will walk through the steps to load a CSV file using\n",
        "the **Pandas library** in Python, summarize the data, and perform some\n",
        "basic manipulations, including converting certain columns to their\n",
        "logarithmic values (using the **Numpy library**) and creating new\n",
        "variables based on calculations from existing ones.\n",
        "\n",
        "**Note**: Pandas and Numpy are two of the main libraries when working\n",
        "with data. They are widely known and we will be using them all the time\n",
        "in this class.\n",
        "\n",
        "## 1. Loading the Data\n",
        "\n",
        "First, we need to import the necessary libraries and load the data from\n",
        "the CSV file. Here’s how to do it:"
      ],
      "id": "ba33b314-7359-4bf6-a7f6-fcb6d2656ac9"
    },
    {
      "cell_type": "code",
      "execution_count": 1,
      "metadata": {},
      "outputs": [],
      "source": [
        "import numpy as np\n",
        "import pandas as pd\n",
        "\n",
        "# Load the data\n",
        "data = pd.read_csv('./data/capm.csv', index_col=0)"
      ],
      "id": "4bf62389"
    },
    {
      "cell_type": "markdown",
      "metadata": {},
      "source": [
        "Here, we use the `read_csv` function to load the data, and (optionally)\n",
        "define the first column (the date in this case) as the index by using\n",
        "`index_col=0`.\n",
        "\n",
        "The data is now stored in the variable `data` which, in this case, is a\n",
        "Pandas **DataFrame**.\n",
        "\n",
        "Also, it is good practice to import all the libraries that are needed at\n",
        "the beginning of the file.\n",
        "\n",
        "## 2. Summarizing the Data\n",
        "\n",
        "After loading the data, it’s essential to understand its structure and\n",
        "contents. We can use the following methods:\n",
        "\n",
        "-   **View the first few rows** of the DataFrame:"
      ],
      "id": "3534b24b-f9ce-4519-96b0-693193932202"
    },
    {
      "cell_type": "code",
      "execution_count": 2,
      "metadata": {},
      "outputs": [
        {
          "output_type": "stream",
          "name": "stdout",
          "text": [
            "              SANDP   FORD         GE  MICROSOFT     ORACLE  USTB3M\n",
            "Date                                                               \n",
            "Jan-02  1130.199951  15.30  37.150002  31.855000  17.260000    1.68\n",
            "Feb-02  1106.729980  14.88  38.500000  29.170000  16.620001    1.76\n",
            "Mar-02  1147.390015  16.49  37.400002  30.155001  12.800000    1.83\n",
            "Apr-02  1076.920044  16.00  31.549999  26.129999  10.040000    1.75\n",
            "May-02  1067.140015  17.65  31.139999  25.455000   7.920000    1.76"
          ]
        }
      ],
      "source": [
        "print(data.head())"
      ],
      "id": "50b65a6d"
    },
    {
      "cell_type": "markdown",
      "metadata": {},
      "source": [
        "-   **Get basic information** about the DataFrame:"
      ],
      "id": "87bc1c10-225e-4b92-8890-2975924dcdbb"
    },
    {
      "cell_type": "code",
      "execution_count": 3,
      "metadata": {},
      "outputs": [
        {
          "output_type": "stream",
          "name": "stdout",
          "text": [
            "<class 'pandas.core.frame.DataFrame'>\n",
            "Index: 194 entries, Jan-02 to Feb-18\n",
            "Data columns (total 6 columns):\n",
            " #   Column     Non-Null Count  Dtype  \n",
            "---  ------     --------------  -----  \n",
            " 0   SANDP      194 non-null    float64\n",
            " 1   FORD       194 non-null    float64\n",
            " 2   GE         194 non-null    float64\n",
            " 3   MICROSOFT  194 non-null    float64\n",
            " 4   ORACLE     194 non-null    float64\n",
            " 5   USTB3M     194 non-null    float64\n",
            "dtypes: float64(6)\n",
            "memory usage: 10.6+ KB\n",
            "None"
          ]
        }
      ],
      "source": [
        "print(data.info())"
      ],
      "id": "0a72599f"
    },
    {
      "cell_type": "markdown",
      "metadata": {},
      "source": [
        "-   **Summary statistics** can be obtained using:"
      ],
      "id": "ba508885-8d59-4942-9243-69188e766737"
    },
    {
      "cell_type": "code",
      "execution_count": 4,
      "metadata": {},
      "outputs": [
        {
          "output_type": "stream",
          "name": "stdout",
          "text": [
            "             SANDP        FORD          GE   MICROSOFT      ORACLE      USTB3M\n",
            "count   194.000000  194.000000  194.000000  194.000000  194.000000  194.000000\n",
            "mean   1468.897883   11.430361   26.593866   34.754433   25.972474    1.241495\n",
            "std     472.527116    3.552879    7.384621   15.044991   12.038702    1.570625\n",
            "min     729.570007    1.870000    8.510000   16.150000    7.860000    0.010000\n",
            "25%    1127.207459    8.527500   20.719999   25.867500   13.950000    0.080000\n",
            "50%    1323.525024   11.740000   26.950000   28.350000   22.710000    0.480000\n",
            "75%    1854.725037   14.167500   32.697501   38.265001   36.474999    1.725000\n",
            "max    2816.449951   17.650000   41.400002   95.010002   51.590000    5.160000"
          ]
        }
      ],
      "source": [
        "print(data.describe())"
      ],
      "id": "0bc3827a"
    },
    {
      "cell_type": "markdown",
      "metadata": {},
      "source": [
        "These commands will help us understand the data types, the number of\n",
        "entries, and basic statistics like mean, standard deviation, and\n",
        "quartiles.\n",
        "\n",
        "## 3. Basic Data Manipulation\n",
        "\n",
        "### 3.1. Converting Columns to Logarithmic Scale\n",
        "\n",
        "To convert specific columns to their logarithmic values, we can use the\n",
        "`numpy` library for the logarithmic transformation. For example, if we\n",
        "want to convert the `SANDP` column to its logarithmic form:"
      ],
      "id": "eac07eb1-1cf3-43e8-8823-bdad2a5fb663"
    },
    {
      "cell_type": "code",
      "execution_count": 5,
      "metadata": {},
      "outputs": [
        {
          "output_type": "stream",
          "name": "stdout",
          "text": [
            "              SANDP   FORD         GE  MICROSOFT     ORACLE  USTB3M  log_SANDP\n",
            "Date                                                                          \n",
            "Jan-02  1130.199951  15.30  37.150002  31.855000  17.260000    1.68   7.030150\n",
            "Feb-02  1106.729980  14.88  38.500000  29.170000  16.620001    1.76   7.009165\n",
            "Mar-02  1147.390015  16.49  37.400002  30.155001  12.800000    1.83   7.045245\n",
            "Apr-02  1076.920044  16.00  31.549999  26.129999  10.040000    1.75   6.981860\n",
            "May-02  1067.140015  17.65  31.139999  25.455000   7.920000    1.76   6.972737"
          ]
        }
      ],
      "source": [
        "# Convert SANDP column to logarithmic scale using Numpy\n",
        "data['log_SANDP'] = np.log(data['SANDP'])\n",
        "print(data.head())"
      ],
      "id": "52cf4309"
    },
    {
      "cell_type": "markdown",
      "metadata": {},
      "source": [
        "Every column in the CSV or Excel file, is now a variable in the pandas\n",
        "`DataFrame`. Here we are creating a new variable, the log of `SANDP` and\n",
        "storing it as another variable in our data set (stored in `data`).\n",
        "\n",
        "In the example above, we **get** the `SANDP` column or variable with\n",
        "`data['SANDP']`, which is just the way to get an item from a Python\n",
        "dictionary `dict` (see explanation at the end [Understanding Python\n",
        "Dictionaries](#understanding-python-dictionaries)).\n",
        "\n",
        "Then we use `data['SANDP']` to calculate the `log` and store that in a\n",
        "new column or variable, namely `data['log_SANDP']`. **Note** that\n",
        "`log_SANDP` is just an arbitrary name (you can give whatever name you\n",
        "want, just avoid using spaces when naming new variables).\n",
        "\n",
        "### 3.2. Creating New Variables\n",
        "\n",
        "To summarize, we can create new columns based on calculations from\n",
        "existing columns. For instance, let’s create a new column that\n",
        "represents the difference between the `MICROSOFT` and `ORACLE` stock\n",
        "prices:"
      ],
      "id": "4512fe96-a6d0-47f3-aaed-48463076ba71"
    },
    {
      "cell_type": "code",
      "execution_count": 6,
      "metadata": {},
      "outputs": [
        {
          "output_type": "stream",
          "name": "stdout",
          "text": [
            "              SANDP   FORD         GE  MICROSOFT     ORACLE  USTB3M  \\\n",
            "Date                                                                  \n",
            "Jan-02  1130.199951  15.30  37.150002  31.855000  17.260000    1.68   \n",
            "Feb-02  1106.729980  14.88  38.500000  29.170000  16.620001    1.76   \n",
            "Mar-02  1147.390015  16.49  37.400002  30.155001  12.800000    1.83   \n",
            "Apr-02  1076.920044  16.00  31.549999  26.129999  10.040000    1.75   \n",
            "May-02  1067.140015  17.65  31.139999  25.455000   7.920000    1.76   \n",
            "\n",
            "        log_SANDP  MSFT_ORCL_diff  \n",
            "Date                               \n",
            "Jan-02   7.030150       14.595000  \n",
            "Feb-02   7.009165       12.549999  \n",
            "Mar-02   7.045245       17.355001  \n",
            "Apr-02   6.981860       16.089999  \n",
            "May-02   6.972737       17.535000  "
          ]
        }
      ],
      "source": [
        "# Create a new column for the difference between MICROSOFT and ORACLE\n",
        "data['MSFT_ORCL_diff'] = data['MICROSOFT'] - data['ORACLE']\n",
        "print(data.head())"
      ],
      "id": "cf37c875"
    },
    {
      "cell_type": "markdown",
      "metadata": {},
      "source": [
        "## 4. Conclusion\n",
        "\n",
        "At this point, you have successfully loaded the data, summarized it, and\n",
        "performed basic manipulations. Later on, we will further explore the\n",
        "dataset by applying various statistical analyses or visualizations as\n",
        "needed.\n",
        "\n",
        "### Example of a Simple Calculation\n",
        "\n",
        "If you want to calculate the mean of the `log_SANDP` column, you can do\n",
        "so as follows:"
      ],
      "id": "5c94d271-cce9-414b-ba0a-b5b9e9c91218"
    },
    {
      "cell_type": "code",
      "execution_count": 7,
      "metadata": {},
      "outputs": [
        {
          "output_type": "stream",
          "name": "stdout",
          "text": [
            "Mean of SANDP: 1468.8978825206184"
          ]
        }
      ],
      "source": [
        "mean_sandp = data['SANDP'].mean()\n",
        "print(f'Mean of SANDP: {mean_sandp}')"
      ],
      "id": "5f350a36"
    },
    {
      "cell_type": "markdown",
      "metadata": {},
      "source": [
        "Or, if we want to calculate the mean for all columns, excluding the\n",
        "date, we can use a `for loop`:"
      ],
      "id": "ff246411-ba05-49bd-a678-4df19f24122a"
    },
    {
      "cell_type": "code",
      "execution_count": 8,
      "metadata": {},
      "outputs": [
        {
          "output_type": "stream",
          "name": "stdout",
          "text": [
            "Index(['SANDP', 'FORD', 'GE', 'MICROSOFT', 'ORACLE', 'USTB3M', 'log_SANDP',\n",
            "       'MSFT_ORCL_diff'],\n",
            "      dtype='object')\n",
            "Mean of FORD           :    11.4304\n",
            "Mean of GE             :    26.5939\n",
            "Mean of MICROSOFT      :    34.7544\n",
            "Mean of ORACLE         :    25.9725\n",
            "Mean of USTB3M         :     1.2415\n",
            "Mean of log_SANDP      :     7.2445\n",
            "Mean of MSFT_ORCL_diff :      8.782"
          ]
        }
      ],
      "source": [
        "# Calculate the mean of all numeric columns excluding the first column (Date)\n",
        "means = {}\n",
        "columns = data.columns # this is a List with the columns names\n",
        "print(columns)\n",
        "\n",
        "# Exclude the first column (Date)\n",
        "for column in columns[1:]:  # This excludes the first column\n",
        "    if pd.api.types.is_numeric_dtype(data[column]): # optional check\n",
        "        means[column] = data[column].mean()\n",
        "\n",
        "# Print the means for all numeric columns\n",
        "for column, mean_value in means.items():\n",
        "    print(f'Mean of {column:<15}: {round(mean_value, 4):>10}')"
      ],
      "id": "e11727a8"
    },
    {
      "cell_type": "markdown",
      "metadata": {},
      "source": [
        "Alternatively, we can use this easier approach:"
      ],
      "id": "a0d38351-8e42-45a8-9df6-5bfe76399ed8"
    },
    {
      "cell_type": "code",
      "execution_count": 9,
      "metadata": {},
      "outputs": [
        {
          "output_type": "stream",
          "name": "stdout",
          "text": [
            "Mean of FORD: 11.4304\n",
            "Mean of GE: 26.5939\n",
            "Mean of MICROSOFT: 34.7544\n",
            "Mean of ORACLE: 25.9725\n",
            "Mean of USTB3M: 1.2415\n",
            "Mean of log_SANDP: 7.2445\n",
            "Mean of MSFT_ORCL_diff: 8.782"
          ]
        }
      ],
      "source": [
        "# Calculate the mean of all numeric columns excluding the first column (Date)\n",
        "means = data.iloc[:, 1:].mean()  # Excludes the first column and calculates the mean\n",
        "\n",
        "# Print the means for all numeric columns\n",
        "for column, mean_value in means.items():\n",
        "    print(f'Mean of {column}: {round(mean_value, 4)}')"
      ],
      "id": "56569249"
    },
    {
      "cell_type": "markdown",
      "metadata": {},
      "source": [
        "------------------------------------------------------------------------\n",
        "\n",
        "## Understanding Python Dictionaries\n",
        "\n",
        "A **Python dictionary** is a built-in data type that allows you to store\n",
        "data in key-value pairs. Each key in a dictionary is unique, and it maps\n",
        "to a specific value. This makes dictionaries very useful for quickly\n",
        "accessing data based on a specific identifier (the key).\n",
        "\n",
        "### Example 1: Creating a Simple Dictionary"
      ],
      "id": "08c74372-ef37-4d2f-9de4-83c5ee37fbbd"
    },
    {
      "cell_type": "code",
      "execution_count": 10,
      "metadata": {},
      "outputs": [
        {
          "output_type": "stream",
          "name": "stdout",
          "text": [
            "Alice"
          ]
        }
      ],
      "source": [
        "# Creating a simple dictionary\n",
        "person = {\n",
        "    'name': 'Alice',\n",
        "    'age': 30,\n",
        "    'city': 'New York'\n",
        "}\n",
        "\n",
        "# Accessing a value using its key\n",
        "print(person['name'])  # Output: Alice"
      ],
      "id": "ad491e5e"
    },
    {
      "cell_type": "markdown",
      "metadata": {},
      "source": [
        "In this example, we create a dictionary called `person` with three\n",
        "key-value pairs. We can access the value associated with the key\n",
        "`'name'` using the syntax `person['name']`.\n",
        "\n",
        "### Example 2: Modifying a Dictionary"
      ],
      "id": "a613912a-ca80-4452-b40e-6ab9f567ea9a"
    },
    {
      "cell_type": "code",
      "execution_count": 11,
      "metadata": {},
      "outputs": [
        {
          "output_type": "stream",
          "name": "stdout",
          "text": [
            "{'name': 'Alice', 'age': 31, 'city': 'New York'}"
          ]
        }
      ],
      "source": [
        "# Modifying a value in the dictionary\n",
        "person['age'] = 31  # Update the age\n",
        "print(person)  # Output: {'name': 'Alice', 'age': 31, 'city': 'New York'}"
      ],
      "id": "183b7b2e"
    },
    {
      "cell_type": "markdown",
      "metadata": {},
      "source": [
        "Here, we update the value associated with the key `'age'`. The\n",
        "dictionary allows us to easily modify values without changing the\n",
        "structure.\n",
        "\n",
        "## Pandas DataFrames as Dictionaries\n",
        "\n",
        "A **Pandas DataFrame** can be thought of as a dictionary. Each column in\n",
        "a DataFrame can be seen as a key-value pair, where the key is the column\n",
        "name, and the value is a list (or array-like structure) of the column’s\n",
        "data.\n",
        "\n",
        "### Key Points:\n",
        "\n",
        "-   **Columns as Keys**: In a DataFrame, each column name acts as a key,\n",
        "    and the data within that column acts as the associated value.\n",
        "-   **Accessing Columns**: You can access a specific column (which is\n",
        "    similar to a list) using the following notation:"
      ],
      "id": "695eea6a-89f7-46f8-9adc-6ea197e763f3"
    },
    {
      "cell_type": "code",
      "execution_count": 12,
      "metadata": {},
      "outputs": [
        {
          "output_type": "stream",
          "name": "stdout",
          "text": [
            "Date\n",
            "Jan-02    1130.199951\n",
            "Feb-02    1106.729980\n",
            "Mar-02    1147.390015\n",
            "Apr-02    1076.920044\n",
            "May-02    1067.140015\n",
            "             ...     \n",
            "Oct-17    2583.209961\n",
            "Nov-17    2645.100098\n",
            "Dec-17    2683.729980\n",
            "Jan-18    2816.449951\n",
            "Feb-18    2715.219971\n",
            "Name: SANDP, Length: 194, dtype: float64"
          ]
        }
      ],
      "source": [
        "# Accessing a column in a DataFrame\n",
        "sandp_column = data['SANDP']  # This retrieves the 'SANDP' column\n",
        "print(sandp_column)"
      ],
      "id": "912f3170"
    },
    {
      "cell_type": "markdown",
      "metadata": {},
      "source": [
        "-   **Columns as Lists**: Each column in a DataFrame behaves like a\n",
        "    list, allowing you to perform list-like operations, such as slicing\n",
        "    and indexing (**Note**: we covered Python list in the previous\n",
        "    Python introduction).\n",
        "\n",
        "### Example of Accessing DataFrame Elements"
      ],
      "id": "1d8880b4-dfef-4175-910d-9f142f8c99b6"
    },
    {
      "cell_type": "code",
      "execution_count": 13,
      "metadata": {},
      "outputs": [
        {
          "output_type": "stream",
          "name": "stdout",
          "text": [
            "Date\n",
            "Jan-02    1130.199951\n",
            "Feb-02    1106.729980\n",
            "Mar-02    1147.390015\n",
            "Apr-02    1076.920044\n",
            "May-02    1067.140015\n",
            "Name: SANDP, dtype: float64"
          ]
        }
      ],
      "source": [
        "# Accessing the first five elements of the 'SANDP' column\n",
        "first_five_sandp = data['SANDP'][:5]\n",
        "print(first_five_sandp)"
      ],
      "id": "c182d3a5"
    },
    {
      "cell_type": "markdown",
      "metadata": {},
      "source": [
        "In this example, we access the first five elements of the `SANDP` column\n",
        "using list notation, which is similar to how we would access elements in\n",
        "a Python list.\n",
        "\n",
        "**In summary**, a Python dictionary is a collection of key-value pairs,\n",
        "and Pandas DataFrames can be thought of as dictionaries where each\n",
        "column is a key, and the data within those columns are the values. This\n",
        "structure allows for efficient data manipulation and retrieval, making\n",
        "DataFrames a powerful tool for data analysis in Python.\n",
        "\n",
        "------------------------------------------------------------------------\n",
        "\n",
        "## Pandas `iloc`\n",
        "\n",
        "`iloc` is an indexing method in Pandas that allows you to select data\n",
        "from a DataFrame by its integer location (index positions). It stands\n",
        "for “integer location” and is primarily used for positional indexing,\n",
        "which means you can access rows and columns based on their integer\n",
        "positions rather than their labels.\n",
        "\n",
        "### Key Features of `iloc`\n",
        "\n",
        "1.  **Positional Indexing**: You can access rows and columns using their\n",
        "    integer positions. For example, `data.iloc[0]` accesses the first\n",
        "    row of the DataFrame, and `data.iloc[:, 0]` accesses the first\n",
        "    column.\n",
        "\n",
        "2.  **Slicing**: You can use slicing to get a range of rows or columns.\n",
        "    For example, `data.iloc[0:5]` retrieves the first five rows.\n",
        "\n",
        "3.  **Single Value Access**: You can access a specific value by\n",
        "    providing both row and column indices. For example,\n",
        "    `data.iloc[0, 1]` retrieves the value in the first row and the\n",
        "    second column.\n",
        "\n",
        "4.  **Boolean Indexing**: You can also use boolean arrays (lists of\n",
        "    `True` and/or `False`) to filter data when using `iloc`.\n",
        "\n",
        "### Basic Syntax\n",
        "\n",
        "The basic syntax for using `iloc` is:\n",
        "\n",
        "``` python\n",
        "data.iloc[row_index, column_index]\n",
        "```\n",
        "\n",
        "-   `row_index`: The integer index (or slice) for the rows you want to\n",
        "    select.\n",
        "-   `column_index`: The integer index (or slice) for the columns you\n",
        "    want to select.\n",
        "\n",
        "### Examples of Using `iloc`\n",
        "\n",
        "Here are some examples to illustrate how to use `iloc` in Pandas:\n",
        "\n",
        "#### Example 1: Accessing Rows"
      ],
      "id": "13074bba-f857-4981-8f00-a36006889e20"
    },
    {
      "cell_type": "code",
      "execution_count": 14,
      "metadata": {},
      "outputs": [
        {
          "output_type": "stream",
          "name": "stdout",
          "text": [
            "A    1\n",
            "B    5\n",
            "C    9\n",
            "Name: 0, dtype: int64"
          ]
        }
      ],
      "source": [
        "# Sample DataFrame\n",
        "data = pd.DataFrame({\n",
        "    'A': [1, 2, 3, 4],\n",
        "    'B': [5, 6, 7, 8],\n",
        "    'C': [9, 10, 11, 12]\n",
        "})\n",
        "\n",
        "# Access the first row\n",
        "first_row = data.iloc[0]\n",
        "print(first_row)"
      ],
      "id": "e83cf5cc"
    },
    {
      "cell_type": "markdown",
      "metadata": {},
      "source": [
        "#### Example 2: Accessing Specific Rows and Columns"
      ],
      "id": "0e449148-c86d-4697-97cf-e3a39546c0eb"
    },
    {
      "cell_type": "code",
      "execution_count": 15,
      "metadata": {},
      "outputs": [
        {
          "output_type": "stream",
          "name": "stdout",
          "text": [
            "2"
          ]
        }
      ],
      "source": [
        "# Access the value in the second row and first column\n",
        "value = data.iloc[1, 0]\n",
        "print(value)  # Output: 2"
      ],
      "id": "aea40bb3"
    },
    {
      "cell_type": "markdown",
      "metadata": {},
      "source": [
        "#### Example 3: Slicing Rows"
      ],
      "id": "8e3dbc2c-1c33-4e96-8035-93738ad51418"
    },
    {
      "cell_type": "code",
      "execution_count": 16,
      "metadata": {},
      "outputs": [
        {
          "output_type": "stream",
          "name": "stdout",
          "text": [
            "   A  B   C\n",
            "0  1  5   9\n",
            "1  2  6  10"
          ]
        }
      ],
      "source": [
        "# Access the first two rows\n",
        "first_two_rows = data.iloc[0:2]\n",
        "print(first_two_rows)"
      ],
      "id": "34c84cc8"
    },
    {
      "cell_type": "markdown",
      "metadata": {},
      "source": [
        "#### Example 4: Accessing Multiple Rows and Columns"
      ],
      "id": "89d06918-f1e5-4fcd-9edc-e272cf9cde38"
    },
    {
      "cell_type": "code",
      "execution_count": 17,
      "metadata": {},
      "outputs": [
        {
          "output_type": "stream",
          "name": "stdout",
          "text": [
            "   A  B\n",
            "0  1  5\n",
            "1  2  6"
          ]
        }
      ],
      "source": [
        "# Access the first two rows and the first two columns\n",
        "subset = data.iloc[0:2, 0:2]\n",
        "print(subset)"
      ],
      "id": "c2db8df9"
    },
    {
      "cell_type": "markdown",
      "metadata": {},
      "source": [
        "### Important Notes\n",
        "\n",
        "-   **Zero-Based Indexing**: `iloc` uses zero-based indexing, meaning\n",
        "    the first element has an index of `0`.\n",
        "-   **Error Handling**: If you try to access an index that is out of\n",
        "    bounds, Pandas will raise an `IndexError`.\n",
        "-   **Not Label-Based**: Unlike `loc`, which is label-based, `iloc`\n",
        "    strictly uses integer indices.\n",
        "\n",
        "### Conclusion\n",
        "\n",
        "`iloc` is a powerful tool in Pandas for data selection and manipulation\n",
        "based on integer positions. It is especially useful when you want to\n",
        "access data without worrying about the column names or row indices,\n",
        "making it a flexible option for data analysis and exploration."
      ],
      "id": "5acda055-2580-40fd-ba69-04efa213bab0"
    }
  ],
  "nbformat": 4,
  "nbformat_minor": 5,
  "metadata": {
    "kernelspec": {
      "name": "python3",
      "display_name": "Python 3 (ipykernel)",
      "language": "python"
    },
    "language_info": {
      "name": "python",
      "codemirror_mode": {
        "name": "ipython",
        "version": "3"
      },
      "file_extension": ".py",
      "mimetype": "text/x-python",
      "nbconvert_exporter": "python",
      "pygments_lexer": "ipython3",
      "version": "3.12.4"
    }
  }
}