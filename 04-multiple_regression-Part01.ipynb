{
  "cells": [
    {
      "cell_type": "markdown",
      "metadata": {},
      "source": [
        "# Multiple Regression Analysis\n",
        "\n",
        "We will use as an example an extended CAPM model in which we add\n",
        "additional macroeconomic variables, on top of the traditional variables\n",
        "described in the model.\n",
        "\n",
        "## Import libraries\n",
        "\n",
        "Let’s import the libraries first:"
      ],
      "id": "3eef83dd-829b-4638-b201-c8178268d92d"
    },
    {
      "cell_type": "code",
      "execution_count": 1,
      "metadata": {},
      "outputs": [],
      "source": [
        "import pandas as pd\n",
        "import statsmodels.formula.api as smf"
      ],
      "id": "5726cfa7"
    },
    {
      "cell_type": "markdown",
      "metadata": {},
      "source": [
        "## Load and summarize the data\n",
        "\n",
        "Let’s load and summarize the data:"
      ],
      "id": "4256b03e-f7df-49c7-9584-28008cbf1dbb"
    },
    {
      "cell_type": "code",
      "execution_count": 2,
      "metadata": {},
      "outputs": [
        {
          "output_type": "stream",
          "name": "stdout",
          "text": [
            "        MICROSOFT        SANDP         CPI      INDPRO     M1SUPPLY  \\\n",
            "count  385.000000   385.000000  385.000000  385.000000   385.000000   \n",
            "mean    23.301377  1066.036104  181.062234   86.629558  1514.690130   \n",
            "std     19.255689   602.397162   41.136587   15.887233   778.509244   \n",
            "min      0.100000   230.300000  108.600000   56.500000   624.300000   \n",
            "25%      2.890000   459.270000  147.200000   69.480000  1069.300000   \n",
            "50%     25.720000  1104.490000  178.800000   93.000000  1191.800000   \n",
            "75%     30.860000  1385.590000  218.180000  100.720000  1716.000000   \n",
            "max     95.010000  2823.810000  249.550000  106.660000  3684.700000   \n",
            "\n",
            "           CCREDIT     BMINUSA      USTB3M     USTB10Y  \n",
            "count   385.000000  385.000000  385.000000  385.000000  \n",
            "mean   1897.814831    0.974623    3.296909    5.075403  \n",
            "std     949.565970    0.382047    2.589801    2.173512  \n",
            "min     606.800000    0.550000    0.010000    1.500000  \n",
            "25%     886.170000    0.720000    0.450000    3.330000  \n",
            "50%    1891.830000    0.900000    3.440000    4.910000  \n",
            "75%    2620.450000    1.130000    5.290000    6.740000  \n",
            "max    3843.420000    3.380000    9.140000    9.520000  \n",
            "        MICROSOFT   SANDP    CPI  INDPRO  M1SUPPLY  CCREDIT  BMINUSA  USTB3M  \\\n",
            "Date                                                                           \n",
            "Mar-86       0.10  238.90  108.8   56.54     624.3   606.80     1.50    6.76   \n",
            "Apr-86       0.11  235.52  108.6   56.57     647.0   614.37     1.40    6.24   \n",
            "May-86       0.12  247.35  108.9   56.69     645.7   621.92     1.20    6.33   \n",
            "Jun-86       0.11  250.84  109.5   56.50     662.8   627.89     1.21    6.40   \n",
            "Jul-86       0.10  236.12  109.5   56.81     673.4   633.61     1.28    6.00   \n",
            "\n",
            "        USTB10Y  \n",
            "Date             \n",
            "Mar-86     7.78  \n",
            "Apr-86     7.30  \n",
            "May-86     7.71  \n",
            "Jun-86     7.80  \n",
            "Jul-86     7.30  "
          ]
        }
      ],
      "source": [
        "df = pd.read_csv(\"./data/macro.csv\", index_col=0)\n",
        "print(df.describe())\n",
        "print(df.head())"
      ],
      "id": "ed3dae3e"
    },
    {
      "cell_type": "markdown",
      "metadata": {},
      "source": [
        "The data is comprised of:\n",
        "\n",
        "-   Microsoft stock price\n",
        "-   S&P500 index value\n",
        "-   Consumer price index\n",
        "-   Industrial production index,\n",
        "-   Measure of ‘narrow’ money supply (M1),\n",
        "-   Consumer credit series, and a ‘credit spread’ series.\n",
        "-   Treasury bill yields for three months and ten years\n",
        "\n",
        "## Calculate variables\n",
        "\n",
        "Calculate the return of Microsoft and S&P, as well as the corresponding\n",
        "return premiums:"
      ],
      "id": "61fbd066-e67d-4cf9-bd61-355491d075d9"
    },
    {
      "cell_type": "code",
      "execution_count": 3,
      "metadata": {},
      "outputs": [],
      "source": [
        "df[\"MS_r\"] = df[\"MICROSOFT\"].pct_change() * 100\n",
        "df[\"MS_r_premium\"] = df[\"MS_r\"] - df[\"USTB3M\"]\n",
        "df[\"SANDP_r\"] = df[\"SANDP\"].pct_change() * 100\n",
        "df[\"SANDP_r_premium\"] = df[\"SANDP_r\"] - df[\"USTB3M\"]"
      ],
      "id": "a2c11331"
    },
    {
      "cell_type": "markdown",
      "metadata": {},
      "source": [
        "## Model to estimate\n",
        "\n",
        "Let’s add the inflation rate as covariate or explanatory variable, and\n",
        "so we will estimate the following equation:\n",
        "\n",
        "$$y = \\beta_0 + \\beta_1 x_1 + \\beta_2 x_2 + u$$\n",
        "\n",
        "where $y$ is `MS_r_premium`, $x_1$ is the `SANDP_r_premium`, and $x_2$\n",
        "is either `inflation` or money growth rate `m1_growth`.\n",
        "\n",
        "We have the CPI already, so let’s calculate the inflation rate:"
      ],
      "id": "3fd6f85b-d565-4a0f-bc25-92684e0ec569"
    },
    {
      "cell_type": "code",
      "execution_count": 4,
      "metadata": {},
      "outputs": [],
      "source": [
        "df[\"inflation\"] = df[\"CPI\"].pct_change() * 100\n",
        "df[\"m1_growth\"] = df[\"M1SUPPLY\"].pct_change() * 100"
      ],
      "id": "ec30d4f4"
    },
    {
      "cell_type": "markdown",
      "metadata": {},
      "source": [
        "Let’s drop the missing values from our data:"
      ],
      "id": "57896d2c-3caa-4d0a-9a84-3685b88baae1"
    },
    {
      "cell_type": "code",
      "execution_count": 5,
      "metadata": {},
      "outputs": [
        {
          "output_type": "stream",
          "name": "stdout",
          "text": [
            "        MICROSOFT   SANDP    CPI  INDPRO  M1SUPPLY  CCREDIT  BMINUSA  USTB3M  \\\n",
            "Date                                                                           \n",
            "Apr-86       0.11  235.52  108.6   56.57     647.0   614.37     1.40    6.24   \n",
            "May-86       0.12  247.35  108.9   56.69     645.7   621.92     1.20    6.33   \n",
            "Jun-86       0.11  250.84  109.5   56.50     662.8   627.89     1.21    6.40   \n",
            "Jul-86       0.10  236.12  109.5   56.81     673.4   633.61     1.28    6.00   \n",
            "Aug-86       0.10  252.93  109.7   56.73     678.4   640.51     1.46    5.69   \n",
            "\n",
            "        USTB10Y       MS_r  MS_r_premium   SANDP_r  SANDP_r_premium  \\\n",
            "Date                                                                  \n",
            "Apr-86     7.30  10.000000      3.760000 -1.414818        -7.654818   \n",
            "May-86     7.71   9.090909      2.760909  5.022928        -1.307072   \n",
            "Jun-86     7.80  -8.333333    -14.733333  1.410956        -4.989044   \n",
            "Jul-86     7.30  -9.090909    -15.090909 -5.868283       -11.868283   \n",
            "Aug-86     7.17   0.000000     -5.690000  7.119261         1.429261   \n",
            "\n",
            "        inflation  m1_growth  \n",
            "Date                          \n",
            "Apr-86  -0.183824   3.636072  \n",
            "May-86   0.276243  -0.200927  \n",
            "Jun-86   0.550964   2.648289  \n",
            "Jul-86   0.000000   1.599276  \n",
            "Aug-86   0.182648   0.742501  "
          ]
        }
      ],
      "source": [
        "df = df.dropna()\n",
        "print(df.head())"
      ],
      "id": "227f93d9"
    },
    {
      "cell_type": "markdown",
      "metadata": {},
      "source": [
        "## Model specification in `statsmodels`\n",
        "\n",
        "Let’s define our `statsmodels` specifications:"
      ],
      "id": "c2f72b81-7d72-4433-b3ff-3c1c0f4216cb"
    },
    {
      "cell_type": "code",
      "execution_count": 6,
      "metadata": {},
      "outputs": [],
      "source": [
        "model1 = smf.ols(\"MS_r_premium ~ SANDP_r_premium\", data=df)\n",
        "model2 = smf.ols(\"MS_r_premium ~ SANDP_r_premium + inflation\", data=df)\n",
        "model3 = smf.ols(\"MS_r_premium ~ SANDP_r_premium + m1_growth\", data=df)"
      ],
      "id": "252d6623"
    },
    {
      "cell_type": "markdown",
      "metadata": {},
      "source": [
        "## Model estimation\n",
        "\n",
        "Let’s estimate the basic model first:"
      ],
      "id": "dbce9773-0fd9-4f8e-acaf-22789da57970"
    },
    {
      "cell_type": "code",
      "execution_count": 7,
      "metadata": {},
      "outputs": [
        {
          "output_type": "stream",
          "name": "stdout",
          "text": [
            "                            OLS Regression Results                            \n",
            "==============================================================================\n",
            "Dep. Variable:           MS_r_premium   R-squared:                       0.306\n",
            "Model:                            OLS   Adj. R-squared:                  0.304\n",
            "Method:                 Least Squares   F-statistic:                     168.2\n",
            "Date:                Wed, 23 Oct 2024   Prob (F-statistic):           3.99e-32\n",
            "Time:                        08:51:40   Log-Likelihood:                -1352.3\n",
            "No. Observations:                 384   AIC:                             2709.\n",
            "Df Residuals:                     382   BIC:                             2717.\n",
            "Df Model:                           1                                         \n",
            "Covariance Type:            nonrobust                                         \n",
            "===================================================================================\n",
            "                      coef    std err          t      P>|t|      [0.025      0.975]\n",
            "-----------------------------------------------------------------------------------\n",
            "Intercept           1.7922      0.472      3.795      0.000       0.864       2.721\n",
            "SANDP_r_premium     1.1015      0.085     12.969      0.000       0.935       1.268\n",
            "==============================================================================\n",
            "Omnibus:                       50.069   Durbin-Watson:                   2.069\n",
            "Prob(Omnibus):                  0.000   Jarque-Bera (JB):              122.328\n",
            "Skew:                           0.651   Prob(JB):                     2.73e-27\n",
            "Kurtosis:                       5.439   Cond. No.                         6.31\n",
            "==============================================================================\n",
            "\n",
            "Notes:\n",
            "[1] Standard Errors assume that the covariance matrix of the errors is correctly specified."
          ]
        }
      ],
      "source": [
        "results1 = model1.fit()\n",
        "print(results1.summary())"
      ],
      "id": "eeeca11e"
    },
    {
      "cell_type": "markdown",
      "metadata": {},
      "source": [
        "Now, let’s estimate the augmented model with `inflation`:"
      ],
      "id": "e16b3d39-8ea7-4401-aaf7-845817876e07"
    },
    {
      "cell_type": "code",
      "execution_count": 8,
      "metadata": {},
      "outputs": [
        {
          "output_type": "stream",
          "name": "stdout",
          "text": [
            "                            OLS Regression Results                            \n",
            "==============================================================================\n",
            "Dep. Variable:           MS_r_premium   R-squared:                       0.311\n",
            "Model:                            OLS   Adj. R-squared:                  0.308\n",
            "Method:                 Least Squares   F-statistic:                     86.10\n",
            "Date:                Wed, 23 Oct 2024   Prob (F-statistic):           1.40e-31\n",
            "Time:                        08:51:40   Log-Likelihood:                -1350.8\n",
            "No. Observations:                 384   AIC:                             2708.\n",
            "Df Residuals:                     381   BIC:                             2719.\n",
            "Df Model:                           2                                         \n",
            "Covariance Type:            nonrobust                                         \n",
            "===================================================================================\n",
            "                      coef    std err          t      P>|t|      [0.025      0.975]\n",
            "-----------------------------------------------------------------------------------\n",
            "Intercept           1.3377      0.537      2.490      0.013       0.281       2.394\n",
            "SANDP_r_premium     1.1194      0.085     13.121      0.000       0.952       1.287\n",
            "inflation           2.3068      1.312      1.759      0.079      -0.272       4.886\n",
            "==============================================================================\n",
            "Omnibus:                       45.560   Durbin-Watson:                   2.050\n",
            "Prob(Omnibus):                  0.000   Jarque-Bera (JB):              105.516\n",
            "Skew:                           0.611   Prob(JB):                     1.22e-23\n",
            "Kurtosis:                       5.259   Cond. No.                         17.9\n",
            "==============================================================================\n",
            "\n",
            "Notes:\n",
            "[1] Standard Errors assume that the covariance matrix of the errors is correctly specified."
          ]
        }
      ],
      "source": [
        "results2 = model2.fit()\n",
        "print(results2.summary())"
      ],
      "id": "ab5ca080"
    },
    {
      "cell_type": "markdown",
      "metadata": {},
      "source": [
        "As a third specification, let’s estimate the augmented model with the\n",
        "`CPI`, instead of inflation:"
      ],
      "id": "030f1caf-925d-4b58-a244-57dd4e8a5277"
    },
    {
      "cell_type": "code",
      "execution_count": 9,
      "metadata": {},
      "outputs": [
        {
          "output_type": "stream",
          "name": "stdout",
          "text": [
            "                            OLS Regression Results                            \n",
            "==============================================================================\n",
            "Dep. Variable:           MS_r_premium   R-squared:                       0.307\n",
            "Model:                            OLS   Adj. R-squared:                  0.303\n",
            "Method:                 Least Squares   F-statistic:                     84.24\n",
            "Date:                Wed, 23 Oct 2024   Prob (F-statistic):           5.07e-31\n",
            "Time:                        08:51:40   Log-Likelihood:                -1352.1\n",
            "No. Observations:                 384   AIC:                             2710.\n",
            "Df Residuals:                     381   BIC:                             2722.\n",
            "Df Model:                           2                                         \n",
            "Covariance Type:            nonrobust                                         \n",
            "===================================================================================\n",
            "                      coef    std err          t      P>|t|      [0.025      0.975]\n",
            "-----------------------------------------------------------------------------------\n",
            "Intercept           1.8978      0.495      3.832      0.000       0.924       2.872\n",
            "SANDP_r_premium     1.1065      0.085     12.975      0.000       0.939       1.274\n",
            "m1_growth          -0.1950      0.274     -0.712      0.477      -0.734       0.344\n",
            "==============================================================================\n",
            "Omnibus:                       49.575   Durbin-Watson:                   2.069\n",
            "Prob(Omnibus):                  0.000   Jarque-Bera (JB):              118.674\n",
            "Skew:                           0.651   Prob(JB):                     1.70e-26\n",
            "Kurtosis:                       5.392   Cond. No.                         6.74\n",
            "==============================================================================\n",
            "\n",
            "Notes:\n",
            "[1] Standard Errors assume that the covariance matrix of the errors is correctly specified."
          ]
        }
      ],
      "source": [
        "results3 = model3.fit()\n",
        "print(results3.summary())"
      ],
      "id": "b975ccdc"
    },
    {
      "cell_type": "markdown",
      "metadata": {},
      "source": [
        "## Results Analysis\n",
        "\n",
        "**Analyze the results!** When doing so, make sure to:\n",
        "\n",
        "-   Interpret the coefficients associated to each explanatory variable\n",
        "    $x_j$.\n",
        "-   Use the units of the explanatory variables in the interpretation of\n",
        "    the betas.\n",
        "-   If the variables are in logs, use the interpretation based on\n",
        "    log-log, log-levels, or levels-logs.\n",
        "-   Analyze the significance of the coefficients based on their\n",
        "    `p-value`’s\n",
        "-   Interpret the $R^2$’ and Adjusted `R^2`.\n",
        "\n",
        "## Additional Hypothesis Test\n",
        "\n",
        "Let’s **test whether the coefficient related to inflation is equal to\n",
        "1** or greater than 1. That is, the null hypothesis is defined as beta\n",
        "equal to 1, while the alternative is that it is greater than 1.\n",
        "\n",
        "Based on the results above, we have that\n",
        "$\\text{t-statistic} = \\dfrac{2.3068 - 1}/{1.312} = 0.996$.\n",
        "\n",
        "The **p-value** for this t-statistic is 0.1605 (that is, the probability\n",
        "left to the right of 0.1605). Therefore, **we fail to reject the null\n",
        "hypothesis** as it is greater than 0.1.\n",
        "\n",
        "If we define the alternative hypothesis to be different than 1 (two\n",
        "tails), rather than greater than 1 (right tail), the **p-value** is\n",
        "$0.1605 \\times 2 = 0.3210$, and so we fail to reject the null hypothesis\n",
        "even with a larger probability.\n",
        "\n",
        "**Conclusion**: statistically, we cannot say that the population or true\n",
        "coefficient associated with inflation is different than 1."
      ],
      "id": "d554f5dc-3d3a-4cdc-a28c-c888404f9722"
    }
  ],
  "nbformat": 4,
  "nbformat_minor": 5,
  "metadata": {
    "kernelspec": {
      "name": "python3",
      "display_name": "Python 3 (ipykernel)",
      "language": "python"
    }
  }
}