{
  "cells": [
    {
      "cell_type": "markdown",
      "metadata": {},
      "source": [
        "# Multiple Regression - Extended Applications\n",
        "\n",
        "## Dummy variables\n",
        "\n",
        "We will be using a modified data set originally obtained from\n",
        "Wooldridge’ Introductory Econometrics data set on wages.\n",
        "\n",
        "The modified data set used in this example has the following variables:\n",
        "\n",
        "-   `wage`: average hourly earnings\n",
        "-   `educ`: years of education\n",
        "-   `exper`: years potential experience\n",
        "-   `tenure`: years with current employer\n",
        "-   `married`: =1 if married\n",
        "-   `numdep`: number of dependents\n",
        "-   `gender`: male or female\n",
        "-   `skin`: color of the skin (white or nonwhite)"
      ],
      "id": "39ceda63-4726-4530-a242-739bfd8830b6"
    },
    {
      "cell_type": "code",
      "execution_count": 1,
      "metadata": {},
      "outputs": [
        {
          "output_type": "display_data",
          "metadata": {},
          "data": {
            "text/html": [
              "\n",
              "</div>"
            ]
          }
        }
      ],
      "source": [
        "import pandas as pd\n",
        "import statsmodels.formula.api as smf\n",
        "\n",
        "df = pd.read_csv(\"./data/wage.csv\")\n",
        "df.head()"
      ],
      "id": "eaf040da"
    },
    {
      "cell_type": "markdown",
      "metadata": {},
      "source": [
        "Let’s construct the dummy variables for `gender` and `skin`:"
      ],
      "id": "679c5881-3f75-46a6-bb3d-ae0d016773dc"
    },
    {
      "cell_type": "code",
      "execution_count": 2,
      "metadata": {},
      "outputs": [
        {
          "output_type": "display_data",
          "metadata": {},
          "data": {
            "text/html": [
              "\n",
              "</div>"
            ]
          }
        }
      ],
      "source": [
        "df = pd.get_dummies(df, columns=[\"gender\", \"skin\"], drop_first=False, dtype=int)\n",
        "df.head()"
      ],
      "id": "7c571879"
    },
    {
      "cell_type": "markdown",
      "metadata": {},
      "source": [
        "Now, let’s run a regression using these dummy variables:"
      ],
      "id": "bea47e8a-adfa-440d-9b47-b1c740a4e817"
    },
    {
      "cell_type": "code",
      "execution_count": 3,
      "metadata": {},
      "outputs": [
        {
          "output_type": "stream",
          "name": "stdout",
          "text": [
            "                            OLS Regression Results                            \n",
            "==============================================================================\n",
            "Dep. Variable:                   wage   R-squared:                       0.370\n",
            "Model:                            OLS   Adj. R-squared:                  0.362\n",
            "Method:                 Least Squares   F-statistic:                     43.54\n",
            "Date:                Sun, 27 Oct 2024   Prob (F-statistic):           2.53e-48\n",
            "Time:                        21:33:03   Log-Likelihood:                -1311.4\n",
            "No. Observations:                 526   AIC:                             2639.\n",
            "Df Residuals:                     518   BIC:                             2673.\n",
            "Df Model:                           7                                         \n",
            "Covariance Type:            nonrobust                                         \n",
            "=================================================================================\n",
            "                    coef    std err          t      P>|t|      [0.025      0.975]\n",
            "---------------------------------------------------------------------------------\n",
            "Intercept        -1.9799      0.783     -2.530      0.012      -3.517      -0.442\n",
            "educ              0.5746      0.052     11.034      0.000       0.472       0.677\n",
            "exper             0.0219      0.012      1.789      0.074      -0.002       0.046\n",
            "tenure            0.1383      0.021      6.541      0.000       0.097       0.180\n",
            "married           0.4597      0.295      1.556      0.120      -0.121       1.040\n",
            "numdep            0.1465      0.109      1.345      0.179      -0.067       0.360\n",
            "gender_female    -1.7594      0.267     -6.592      0.000      -2.284      -1.235\n",
            "skin_nonwhite    -0.1100      0.427     -0.257      0.797      -0.950       0.730\n",
            "==============================================================================\n",
            "Omnibus:                      186.895   Durbin-Watson:                   1.788\n",
            "Prob(Omnibus):                  0.000   Jarque-Bera (JB):              711.513\n",
            "Skew:                           1.604   Prob(JB):                    3.14e-155\n",
            "Kurtosis:                       7.709   Cond. No.                         153.\n",
            "==============================================================================\n",
            "\n",
            "Notes:\n",
            "[1] Standard Errors assume that the covariance matrix of the errors is correctly specified."
          ]
        }
      ],
      "source": [
        "model = smf.ols(\"wage ~ educ + exper + tenure + married + numdep + gender_female + skin_nonwhite\", data=df)\n",
        "results = model.fit()\n",
        "print(results.summary())"
      ],
      "id": "2b7e6d39"
    },
    {
      "cell_type": "markdown",
      "metadata": {},
      "source": [
        "### Analyze the results\n",
        "\n",
        "-   Do a significance analysis of the coefficients\n",
        "-   Interpret the meaning of the coefficients using the corresponding\n",
        "    units\n",
        "-   Analyze the Adjusted R-squared\n",
        "\n",
        "## Polynomial regression\n",
        "\n",
        "Let’s consider experience as having potentially **non-linear effects**.\n",
        "That is, we add `exper^2` to our regression to account for this\n",
        "non-linearity:"
      ],
      "id": "aea5692a-754c-4f55-949c-ccc80870c677"
    },
    {
      "cell_type": "code",
      "execution_count": 4,
      "metadata": {},
      "outputs": [
        {
          "output_type": "display_data",
          "metadata": {},
          "data": {
            "text/html": [
              "\n",
              "</div>"
            ]
          }
        }
      ],
      "source": [
        "# add the exper-squared to the dataset (df)\n",
        "df[\"exper^2\"] = df[\"exper\"] ** 2\n",
        "df.head()"
      ],
      "id": "6c2cb7f7"
    },
    {
      "cell_type": "code",
      "execution_count": 5,
      "metadata": {},
      "outputs": [
        {
          "output_type": "stream",
          "name": "stdout",
          "text": [
            "                            OLS Regression Results                            \n",
            "==============================================================================\n",
            "Dep. Variable:                   wage   R-squared:                       0.371\n",
            "Model:                            OLS   Adj. R-squared:                  0.361\n",
            "Method:                 Least Squares   F-statistic:                     38.10\n",
            "Date:                Sun, 27 Oct 2024   Prob (F-statistic):           1.45e-47\n",
            "Time:                        21:33:03   Log-Likelihood:                -1311.2\n",
            "No. Observations:                 526   AIC:                             2640.\n",
            "Df Residuals:                     517   BIC:                             2679.\n",
            "Df Model:                           8                                         \n",
            "Covariance Type:            nonrobust                                         \n",
            "=================================================================================\n",
            "                    coef    std err          t      P>|t|      [0.025      0.975]\n",
            "---------------------------------------------------------------------------------\n",
            "Intercept        -2.0180      0.786     -2.569      0.010      -3.561      -0.475\n",
            "educ              0.5767      0.052     11.043      0.000       0.474       0.679\n",
            "exper             0.0620      0.067      0.921      0.357      -0.070       0.194\n",
            "exper ^ 2        -0.0395      0.065     -0.606      0.545      -0.168       0.089\n",
            "tenure            0.1379      0.021      6.517      0.000       0.096       0.180\n",
            "married           0.4583      0.296      1.550      0.122      -0.122       1.039\n",
            "numdep            0.1462      0.109      1.342      0.180      -0.068       0.360\n",
            "gender_female    -1.7677      0.267     -6.610      0.000      -2.293      -1.242\n",
            "skin_nonwhite    -0.1180      0.428     -0.276      0.783      -0.959       0.723\n",
            "==============================================================================\n",
            "Omnibus:                      187.886   Durbin-Watson:                   1.790\n",
            "Prob(Omnibus):                  0.000   Jarque-Bera (JB):              720.337\n",
            "Skew:                           1.610   Prob(JB):                    3.81e-157\n",
            "Kurtosis:                       7.743   Cond. No.                         202.\n",
            "==============================================================================\n",
            "\n",
            "Notes:\n",
            "[1] Standard Errors assume that the covariance matrix of the errors is correctly specified."
          ]
        }
      ],
      "source": [
        "# specify and estimate the new model with exper^2\n",
        "model2 = smf.ols(\"wage ~ educ + exper + exper^2 + tenure + married + numdep + gender_female + skin_nonwhite\", data=df)\n",
        "results2 = model2.fit()\n",
        "print(results2.summary())"
      ],
      "id": "d81a79ed"
    },
    {
      "cell_type": "markdown",
      "metadata": {},
      "source": [
        "### Analyze the results\n",
        "\n",
        "-   Do a significance analysis of the coefficients\n",
        "-   Interpret the meaning of the coefficients using the corresponding\n",
        "    units\n",
        "-   Analyze the Adjusted R-squared\n",
        "\n",
        "**Conclusion**: given that the estimated coefficients for `exper` and\n",
        "`exper^2` are not significant, we conclude that experience has no linear\n",
        "effects on the hourly wage."
      ],
      "id": "b94cd682-f735-4910-b015-dcbad3b7c871"
    }
  ],
  "nbformat": 4,
  "nbformat_minor": 5,
  "metadata": {
    "kernelspec": {
      "name": "python3",
      "display_name": "Python 3 (ipykernel)",
      "language": "python"
    },
    "language_info": {
      "name": "python",
      "codemirror_mode": {
        "name": "ipython",
        "version": "3"
      },
      "file_extension": ".py",
      "mimetype": "text/x-python",
      "nbconvert_exporter": "python",
      "pygments_lexer": "ipython3",
      "version": "3.12.4"
    }
  }
}