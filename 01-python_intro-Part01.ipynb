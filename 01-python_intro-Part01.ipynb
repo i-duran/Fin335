{
  "cells": [
    {
      "cell_type": "markdown",
      "metadata": {},
      "source": [
        "# Introduction to Python\n",
        "\n",
        "## Creating variables\n",
        "\n",
        "We store data in what we call variables. Variables are ‘names’ that we\n",
        "can reference for later use.\n",
        "\n",
        "### 1. **General Naming Rules**\n",
        "\n",
        "-   **Allowed Characters**: Variable names can include letters (both\n",
        "    uppercase and lowercase), digits, and underscores (`_`).\n",
        "-   **Starting Character**: A variable name must start with a letter or\n",
        "    an underscore, not a digit.\n",
        "-   **Case Sensitivity**: Variable names are case-sensitive (`myVar` and\n",
        "    `myvar` are different variables).\n",
        "-   **No Special Characters**: Avoid using special characters (like `@`,\n",
        "    `$`, `%`, etc.) in variable names.\n",
        "\n",
        "### 2. **Naming Conventions**\n",
        "\n",
        "-   **Snake Case**: Use lowercase letters and underscores to separate\n",
        "    words. This is the most common convention in Python."
      ],
      "id": "63cd70e4-f4b3-4cea-ae98-d16c075187f9"
    },
    {
      "cell_type": "code",
      "execution_count": 1,
      "metadata": {},
      "outputs": [],
      "source": [
        "my_variable_name = 10\n",
        "total_count = 5"
      ],
      "id": "173cce59"
    },
    {
      "cell_type": "markdown",
      "metadata": {},
      "source": [
        "-   **Camel Case**: This is less common in Python but may be seen in\n",
        "    some contexts, especially in class names."
      ],
      "id": "d56f931b-15e1-439b-9c5a-333b8757809a"
    },
    {
      "cell_type": "code",
      "execution_count": 2,
      "metadata": {},
      "outputs": [],
      "source": [
        "myVariableName = 10  # Not recommended for variables"
      ],
      "id": "582ce243"
    },
    {
      "cell_type": "markdown",
      "metadata": {},
      "source": [
        "-   **Pascal Case**: Typically used for class names in Python (we will\n",
        "    not use `classes` in this course)."
      ],
      "id": "0eebeff4-405f-450e-8e1d-a8699d3b0072"
    },
    {
      "cell_type": "code",
      "execution_count": 3,
      "metadata": {},
      "outputs": [],
      "source": [
        "class MyClass:\n",
        "    pass"
      ],
      "id": "c13524ad"
    },
    {
      "cell_type": "markdown",
      "metadata": {},
      "source": [
        "### 3. **Descriptive Names**\n",
        "\n",
        "-   Choose meaningful and descriptive names that convey the purpose of\n",
        "    the variable."
      ],
      "id": "6e45b415-e0a7-43b1-9d89-1fe080f7b745"
    },
    {
      "cell_type": "code",
      "execution_count": 4,
      "metadata": {},
      "outputs": [],
      "source": [
        "user_age = 25\n",
        "total_price = 99.99"
      ],
      "id": "6c33e2ce"
    },
    {
      "cell_type": "markdown",
      "metadata": {},
      "source": [
        "### 4. **Avoiding Reserved Keywords**\n",
        "\n",
        "-   Do not use Python reserved keywords as variable names (e.g., `if`,\n",
        "    `else`, `while`, `for`, `def`, etc.).\n",
        "\n",
        "### 5. **Constants**\n",
        "\n",
        "-   For constants, use all uppercase letters with underscores separating\n",
        "    words."
      ],
      "id": "515c8fe5-8e4a-4beb-a7cf-753fab9bd29a"
    },
    {
      "cell_type": "code",
      "execution_count": 5,
      "metadata": {},
      "outputs": [],
      "source": [
        "MAX_CONNECTIONS = 100\n",
        "PI = 3.14"
      ],
      "id": "5e9481e2"
    },
    {
      "cell_type": "markdown",
      "metadata": {},
      "source": [
        "### 6. **Avoid One-Letter Names**\n",
        "\n",
        "-   Avoid using single-letter variable names except for counters or\n",
        "    iterators (like `i`, `j`, `k` in loops). Use descriptive names for\n",
        "    clarity.\n",
        "\n",
        "### Example\n",
        "\n",
        "Here’s a simple example that incorporates these conventions:"
      ],
      "id": "fdada154-c019-42fd-bc18-f2640126a31a"
    },
    {
      "cell_type": "code",
      "execution_count": 6,
      "metadata": {},
      "outputs": [
        {
          "output_type": "stream",
          "name": "stdout",
          "text": [
            "The average age is: 32.5"
          ]
        }
      ],
      "source": [
        "# Constants\n",
        "MAX_USERS = 100\n",
        "\n",
        "# Function to calculate the average age of users\n",
        "def calculate_average_age(user_ages):\n",
        "    total_age = sum(user_ages)\n",
        "    average_age = total_age / len(user_ages)\n",
        "    return average_age\n",
        "\n",
        "# Main execution\n",
        "ages = [25, 30, 35, 40]\n",
        "avg_age = calculate_average_age(ages)\n",
        "print(f\"The average age is: {avg_age}\")"
      ],
      "id": "591f42a6"
    },
    {
      "cell_type": "markdown",
      "metadata": {},
      "source": [
        "### Explanation\n",
        "\n",
        "Sure! Let’s break down the concepts of lists and the `print` function in\n",
        "Python, as used in the example provided.\n",
        "\n",
        "#### 1. **The `print` Function**\n",
        "\n",
        "The `print` function in Python is used to output data to the console or\n",
        "the screen. It can display strings (which is the name for text),\n",
        "numbers, and other objects. Here are some key features of the `print`\n",
        "function:\n",
        "\n",
        "-   **Basic Usage**: You can pass one or more items to the `print`\n",
        "    function, and it will display them in the console."
      ],
      "id": "e28f3593-e6db-4832-b18c-57fd05406273"
    },
    {
      "cell_type": "code",
      "execution_count": 7,
      "metadata": {},
      "outputs": [
        {
          "output_type": "stream",
          "name": "stdout",
          "text": [
            "Hello, World!"
          ]
        }
      ],
      "source": [
        "print(\"Hello, World!\")  # Output: Hello, World!"
      ],
      "id": "5c48c208"
    },
    {
      "cell_type": "markdown",
      "metadata": {},
      "source": [
        "-   **Multiple Arguments**: You can print multiple items by separating\n",
        "    them with commas. Python automatically adds a space between them."
      ],
      "id": "6496ecc8-32f4-4812-857b-1b3e48db3c8b"
    },
    {
      "cell_type": "code",
      "execution_count": 8,
      "metadata": {},
      "outputs": [
        {
          "output_type": "stream",
          "name": "stdout",
          "text": [
            "Alice is 30 years old."
          ]
        }
      ],
      "source": [
        "name = \"Alice\"\n",
        "age = 30\n",
        "print(name, \"is\", age, \"years old.\")  # Output: Alice is 30 years old."
      ],
      "id": "082f73c8"
    },
    {
      "cell_type": "markdown",
      "metadata": {},
      "source": [
        "-   **String Formatting**: You can format strings to include variables\n",
        "    in a more readable way. In the example, we used an f-string\n",
        "    (formatted string literal) to include the average age in the output."
      ],
      "id": "efcf0352-a49b-410a-828c-39af87b05daa"
    },
    {
      "cell_type": "code",
      "execution_count": 9,
      "metadata": {},
      "outputs": [
        {
          "output_type": "stream",
          "name": "stdout",
          "text": [
            "The average age is 32"
          ]
        }
      ],
      "source": [
        "avg_age = 32\n",
        "print(f\"The average age is {avg_age}\")  # Output: The average age is 32"
      ],
      "id": "526777b6"
    },
    {
      "cell_type": "markdown",
      "metadata": {},
      "source": [
        "-   **Custom Separator and End Character**: You can customize how items\n",
        "    are separated and what character is printed at the end of the\n",
        "    output."
      ],
      "id": "feb1d928-7a2d-4ca2-8071-5870485310b2"
    },
    {
      "cell_type": "code",
      "execution_count": 10,
      "metadata": {},
      "outputs": [
        {
          "output_type": "stream",
          "name": "stdout",
          "text": [
            "Hello-World\n",
            "Hello!"
          ]
        }
      ],
      "source": [
        "print(\"Hello\", \"World\", sep=\"-\")  # Output: Hello-World\n",
        "print(\"Hello\", end=\"!\")            # Output: Hello!"
      ],
      "id": "be8882b6"
    },
    {
      "cell_type": "markdown",
      "metadata": {},
      "source": [
        "### 2. **Lists in Python**\n",
        "\n",
        "A **list** is a built-in data structure in Python that allows you to\n",
        "store a collection of items. Here are some key points about lists:\n",
        "\n",
        "-   **Definition**: A list is defined using square brackets `[]`, and\n",
        "    items within the list are separated by commas."
      ],
      "id": "d4a470e6-b115-4463-9c8e-0b673bcb35ed"
    },
    {
      "cell_type": "code",
      "execution_count": 11,
      "metadata": {},
      "outputs": [],
      "source": [
        "ages = [25, 30, 35, 40]\n",
        "names = [\"Alice\", \"Bob\", \"Charlie\"]"
      ],
      "id": "bc22ec35"
    },
    {
      "cell_type": "markdown",
      "metadata": {},
      "source": [
        "-   **Ordered**: Lists maintain the order of items. The first item has\n",
        "    an index of `0`, the second item has an index of `1`, and so on.\n",
        "\n",
        "-   **Mutable**: Lists are mutable, which means you can change their\n",
        "    content (add, remove, or modify items) after they have been created."
      ],
      "id": "6829fc24-61ae-471b-ac25-8828db02b240"
    },
    {
      "cell_type": "code",
      "execution_count": 12,
      "metadata": {},
      "outputs": [],
      "source": [
        "ages = [25, 30, 35, 40]\n",
        "ages[1] = 32  # Changes the second element from 30 to 32"
      ],
      "id": "6558e148"
    },
    {
      "cell_type": "markdown",
      "metadata": {},
      "source": [
        "-   **Heterogeneous**: Lists can contain items of different data types\n",
        "    (e.g., integers, strings, other lists).\n",
        "\n",
        "#### Example of List Operations\n",
        "\n",
        "Here are some basic operations you can perform on lists:"
      ],
      "id": "95100111-6c97-4699-8289-9a1a1235e180"
    },
    {
      "cell_type": "code",
      "execution_count": 13,
      "metadata": {},
      "outputs": [
        {
          "output_type": "stream",
          "name": "stdout",
          "text": [
            "1\n",
            "3\n",
            "[1, 20, 3, 4, 5]\n",
            "[1, 20, 3, 4, 5, 6]\n",
            "[1, 3, 4, 5, 6]"
          ]
        }
      ],
      "source": [
        "# Creating a list\n",
        "my_list = [1, 2, 3, 4, 5]\n",
        "\n",
        "# Accessing elements\n",
        "print(my_list[0])  # Output: 1 (first element)\n",
        "print(my_list[2])  # Output: 3 (third element)\n",
        "\n",
        "# Modifying elements\n",
        "my_list[1] = 20   # Changes the second element to 20\n",
        "print(my_list)    # Output: [1, 20, 3, 4, 5]\n",
        "\n",
        "# Adding elements\n",
        "my_list.append(6)  # Adds 6 to the end of the list\n",
        "print(my_list)     # Output: [1, 20, 3, 4, 5, 6]\n",
        "\n",
        "# Removing elements\n",
        "my_list.remove(20)  # Removes the element 20 from the list\n",
        "print(my_list)      # Output: [1, 3, 4, 5, 6]"
      ],
      "id": "6d17b1e2"
    },
    {
      "cell_type": "markdown",
      "metadata": {},
      "source": [
        "### Putting It All Together\n",
        "\n",
        "In the example provided earlier, we used a list to store ages and then\n",
        "calculated the average age using a function. Finally, we printed the\n",
        "result to the console:"
      ],
      "id": "08a8aa76-2c7c-41cb-bf2a-8f6d5b6d3d27"
    },
    {
      "cell_type": "code",
      "execution_count": 14,
      "metadata": {},
      "outputs": [
        {
          "output_type": "stream",
          "name": "stdout",
          "text": [
            "The new average age is 46.166666666666664"
          ]
        }
      ],
      "source": [
        "ages = [25, 30, 35, 40, 67, 80]  # A list containing ages\n",
        "avg_age = calculate_average_age(ages)  # Calculate average using the function\n",
        "print(f\"The new average age is {avg_age}\")  # Print the result"
      ],
      "id": "944436a0"
    },
    {
      "cell_type": "markdown",
      "metadata": {},
      "source": [
        "-   **`ages`**: This is a list containing four integers representing the\n",
        "    ages of users.\n",
        "-   **`print(f\"The average age is {avg_age}\")`**: This line uses the\n",
        "    `print` function to display the average age calculated by the\n",
        "    `calculate_average_age` function, formatted nicely within a string.\n",
        "\n",
        "This combination of lists and the `print` function is fundamental in\n",
        "Python and allows you to handle collections of data and display results\n",
        "effectively."
      ],
      "id": "597fc308-d2e4-40b3-ab63-cb67ca77c016"
    }
  ],
  "nbformat": 4,
  "nbformat_minor": 5,
  "metadata": {
    "kernelspec": {
      "name": "python3",
      "display_name": "Python 3 (ipykernel)",
      "language": "python"
    },
    "language_info": {
      "name": "python",
      "codemirror_mode": {
        "name": "ipython",
        "version": "3"
      },
      "file_extension": ".py",
      "mimetype": "text/x-python",
      "nbconvert_exporter": "python",
      "pygments_lexer": "ipython3",
      "version": "3.12.4"
    }
  }
}